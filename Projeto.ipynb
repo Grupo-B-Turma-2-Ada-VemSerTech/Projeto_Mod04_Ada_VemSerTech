{
  "cells": [
    {
      "cell_type": "markdown",
      "metadata": {
        "id": "KsWODBkST1og"
      },
      "source": [
        "# Importação das Bibliotecas"
      ]
    },
    {
      "cell_type": "code",
      "execution_count": 1,
      "metadata": {
        "id": "EuDIG_88T1ok"
      },
      "outputs": [],
      "source": [
        "import pandas as pd\n",
        "import numpy as np\n",
        "import matplotlib.pyplot as plt\n",
        "# para fazer mapas/dados geolocalizados\n",
        "#!pip install geopandas\n",
        "import geopandas as gpd"
      ]
    },
    {
      "cell_type": "markdown",
      "metadata": {
        "id": "t5MFc1G8i7zI"
      },
      "source": [
        "1. Importação do Banco de Dados"
      ]
    },
    {
      "cell_type": "code",
      "execution_count": 2,
      "metadata": {
        "colab": {
          "base_uri": "https://localhost:8080/"
        },
        "id": "1lqCz9ANhQsr",
        "outputId": "27e82c98-9a90-420d-d02f-a09a4bc8f25d"
      },
      "outputs": [
        {
          "name": "stdout",
          "output_type": "stream",
          "text": [
            "Drive already mounted at /content/drive; to attempt to forcibly remount, call drive.mount(\"/content/drive\", force_remount=True).\n"
          ]
        }
      ],
      "source": [
        "from google.colab import drive\n",
        "drive.mount('/content/drive')\n",
        "df_enem = pd.read_csv('/content/drive/MyDrive/Banco de Dados/MICRODADOS_ENEM_2022_REDUZIDO.zip', encoding = 'latin1')"
      ]
    },
    {
      "cell_type": "code",
      "execution_count": 2,
      "metadata": {
        "id": "SSffQ0smT1oq"
      },
      "outputs": [],
      "source": [
        "df_enem = pd.read_csv('MICRODADOS_ENEM_2022_REDUZIDO.zip',\n",
        "                      encoding = 'latin1')"
      ]
    },
    {
      "cell_type": "markdown",
      "metadata": {
        "id": "z8a2WbK8T1op"
      },
      "source": [
        "2. Visualização do Banco de Dados"
      ]
    },
    {
      "cell_type": "code",
      "execution_count": 3,
      "metadata": {
        "colab": {
          "base_uri": "https://localhost:8080/",
          "height": 444
        },
        "id": "N1rUu1vAT1or",
        "outputId": "9ba71825-646c-43d9-e2dc-9abbed6cda10"
      },
      "outputs": [
        {
          "data": {
            "text/html": [
              "<div>\n",
              "<style scoped>\n",
              "    .dataframe tbody tr th:only-of-type {\n",
              "        vertical-align: middle;\n",
              "    }\n",
              "\n",
              "    .dataframe tbody tr th {\n",
              "        vertical-align: top;\n",
              "    }\n",
              "\n",
              "    .dataframe thead th {\n",
              "        text-align: right;\n",
              "    }\n",
              "</style>\n",
              "<table border=\"1\" class=\"dataframe\">\n",
              "  <thead>\n",
              "    <tr style=\"text-align: right;\">\n",
              "      <th></th>\n",
              "      <th>TP_FAIXA_ETARIA</th>\n",
              "      <th>TP_SEXO</th>\n",
              "      <th>TP_COR_RACA</th>\n",
              "      <th>TP_NACIONALIDADE</th>\n",
              "      <th>TP_ST_CONCLUSAO</th>\n",
              "      <th>TP_ANO_CONCLUIU</th>\n",
              "      <th>TP_ENSINO</th>\n",
              "      <th>IN_TREINEIRO</th>\n",
              "      <th>TP_DEPENDENCIA_ADM_ESC</th>\n",
              "      <th>TP_LOCALIZACAO_ESC</th>\n",
              "      <th>...</th>\n",
              "      <th>TP_PRESENCA_LC</th>\n",
              "      <th>TP_PRESENCA_MT</th>\n",
              "      <th>NU_NOTA_CN</th>\n",
              "      <th>NU_NOTA_CH</th>\n",
              "      <th>NU_NOTA_LC</th>\n",
              "      <th>NU_NOTA_MT</th>\n",
              "      <th>TP_LINGUA</th>\n",
              "      <th>TP_STATUS_REDACAO</th>\n",
              "      <th>NU_NOTA_REDACAO</th>\n",
              "      <th>Q006</th>\n",
              "    </tr>\n",
              "  </thead>\n",
              "  <tbody>\n",
              "    <tr>\n",
              "      <th>0</th>\n",
              "      <td>14</td>\n",
              "      <td>M</td>\n",
              "      <td>2</td>\n",
              "      <td>1</td>\n",
              "      <td>1</td>\n",
              "      <td>2</td>\n",
              "      <td>NaN</td>\n",
              "      <td>0</td>\n",
              "      <td>NaN</td>\n",
              "      <td>NaN</td>\n",
              "      <td>...</td>\n",
              "      <td>0</td>\n",
              "      <td>0</td>\n",
              "      <td>NaN</td>\n",
              "      <td>NaN</td>\n",
              "      <td>NaN</td>\n",
              "      <td>NaN</td>\n",
              "      <td>0</td>\n",
              "      <td>NaN</td>\n",
              "      <td>NaN</td>\n",
              "      <td>B</td>\n",
              "    </tr>\n",
              "    <tr>\n",
              "      <th>1</th>\n",
              "      <td>14</td>\n",
              "      <td>M</td>\n",
              "      <td>1</td>\n",
              "      <td>1</td>\n",
              "      <td>1</td>\n",
              "      <td>16</td>\n",
              "      <td>NaN</td>\n",
              "      <td>0</td>\n",
              "      <td>NaN</td>\n",
              "      <td>NaN</td>\n",
              "      <td>...</td>\n",
              "      <td>0</td>\n",
              "      <td>0</td>\n",
              "      <td>NaN</td>\n",
              "      <td>NaN</td>\n",
              "      <td>NaN</td>\n",
              "      <td>NaN</td>\n",
              "      <td>0</td>\n",
              "      <td>NaN</td>\n",
              "      <td>NaN</td>\n",
              "      <td>Q</td>\n",
              "    </tr>\n",
              "    <tr>\n",
              "      <th>2</th>\n",
              "      <td>5</td>\n",
              "      <td>F</td>\n",
              "      <td>2</td>\n",
              "      <td>1</td>\n",
              "      <td>1</td>\n",
              "      <td>2</td>\n",
              "      <td>NaN</td>\n",
              "      <td>0</td>\n",
              "      <td>NaN</td>\n",
              "      <td>NaN</td>\n",
              "      <td>...</td>\n",
              "      <td>1</td>\n",
              "      <td>1</td>\n",
              "      <td>421.1</td>\n",
              "      <td>546.0</td>\n",
              "      <td>498.8</td>\n",
              "      <td>565.3</td>\n",
              "      <td>1</td>\n",
              "      <td>1.0</td>\n",
              "      <td>760.0</td>\n",
              "      <td>B</td>\n",
              "    </tr>\n",
              "    <tr>\n",
              "      <th>3</th>\n",
              "      <td>6</td>\n",
              "      <td>M</td>\n",
              "      <td>3</td>\n",
              "      <td>1</td>\n",
              "      <td>1</td>\n",
              "      <td>2</td>\n",
              "      <td>NaN</td>\n",
              "      <td>0</td>\n",
              "      <td>NaN</td>\n",
              "      <td>NaN</td>\n",
              "      <td>...</td>\n",
              "      <td>1</td>\n",
              "      <td>1</td>\n",
              "      <td>490.7</td>\n",
              "      <td>388.6</td>\n",
              "      <td>357.8</td>\n",
              "      <td>416.0</td>\n",
              "      <td>1</td>\n",
              "      <td>1.0</td>\n",
              "      <td>320.0</td>\n",
              "      <td>A</td>\n",
              "    </tr>\n",
              "    <tr>\n",
              "      <th>4</th>\n",
              "      <td>4</td>\n",
              "      <td>M</td>\n",
              "      <td>3</td>\n",
              "      <td>1</td>\n",
              "      <td>1</td>\n",
              "      <td>1</td>\n",
              "      <td>NaN</td>\n",
              "      <td>0</td>\n",
              "      <td>NaN</td>\n",
              "      <td>NaN</td>\n",
              "      <td>...</td>\n",
              "      <td>0</td>\n",
              "      <td>0</td>\n",
              "      <td>NaN</td>\n",
              "      <td>NaN</td>\n",
              "      <td>NaN</td>\n",
              "      <td>NaN</td>\n",
              "      <td>0</td>\n",
              "      <td>NaN</td>\n",
              "      <td>NaN</td>\n",
              "      <td>B</td>\n",
              "    </tr>\n",
              "    <tr>\n",
              "      <th>...</th>\n",
              "      <td>...</td>\n",
              "      <td>...</td>\n",
              "      <td>...</td>\n",
              "      <td>...</td>\n",
              "      <td>...</td>\n",
              "      <td>...</td>\n",
              "      <td>...</td>\n",
              "      <td>...</td>\n",
              "      <td>...</td>\n",
              "      <td>...</td>\n",
              "      <td>...</td>\n",
              "      <td>...</td>\n",
              "      <td>...</td>\n",
              "      <td>...</td>\n",
              "      <td>...</td>\n",
              "      <td>...</td>\n",
              "      <td>...</td>\n",
              "      <td>...</td>\n",
              "      <td>...</td>\n",
              "      <td>...</td>\n",
              "      <td>...</td>\n",
              "    </tr>\n",
              "    <tr>\n",
              "      <th>3476100</th>\n",
              "      <td>3</td>\n",
              "      <td>M</td>\n",
              "      <td>1</td>\n",
              "      <td>1</td>\n",
              "      <td>2</td>\n",
              "      <td>0</td>\n",
              "      <td>1.0</td>\n",
              "      <td>0</td>\n",
              "      <td>NaN</td>\n",
              "      <td>NaN</td>\n",
              "      <td>...</td>\n",
              "      <td>0</td>\n",
              "      <td>0</td>\n",
              "      <td>NaN</td>\n",
              "      <td>NaN</td>\n",
              "      <td>NaN</td>\n",
              "      <td>NaN</td>\n",
              "      <td>1</td>\n",
              "      <td>NaN</td>\n",
              "      <td>NaN</td>\n",
              "      <td>F</td>\n",
              "    </tr>\n",
              "    <tr>\n",
              "      <th>3476101</th>\n",
              "      <td>14</td>\n",
              "      <td>F</td>\n",
              "      <td>1</td>\n",
              "      <td>1</td>\n",
              "      <td>2</td>\n",
              "      <td>0</td>\n",
              "      <td>NaN</td>\n",
              "      <td>0</td>\n",
              "      <td>2.0</td>\n",
              "      <td>1.0</td>\n",
              "      <td>...</td>\n",
              "      <td>0</td>\n",
              "      <td>0</td>\n",
              "      <td>NaN</td>\n",
              "      <td>NaN</td>\n",
              "      <td>NaN</td>\n",
              "      <td>NaN</td>\n",
              "      <td>1</td>\n",
              "      <td>NaN</td>\n",
              "      <td>NaN</td>\n",
              "      <td>B</td>\n",
              "    </tr>\n",
              "    <tr>\n",
              "      <th>3476102</th>\n",
              "      <td>2</td>\n",
              "      <td>M</td>\n",
              "      <td>1</td>\n",
              "      <td>1</td>\n",
              "      <td>2</td>\n",
              "      <td>0</td>\n",
              "      <td>1.0</td>\n",
              "      <td>0</td>\n",
              "      <td>2.0</td>\n",
              "      <td>1.0</td>\n",
              "      <td>...</td>\n",
              "      <td>1</td>\n",
              "      <td>1</td>\n",
              "      <td>527.9</td>\n",
              "      <td>627.0</td>\n",
              "      <td>583.3</td>\n",
              "      <td>637.1</td>\n",
              "      <td>0</td>\n",
              "      <td>1.0</td>\n",
              "      <td>660.0</td>\n",
              "      <td>G</td>\n",
              "    </tr>\n",
              "    <tr>\n",
              "      <th>3476103</th>\n",
              "      <td>3</td>\n",
              "      <td>M</td>\n",
              "      <td>3</td>\n",
              "      <td>1</td>\n",
              "      <td>2</td>\n",
              "      <td>0</td>\n",
              "      <td>1.0</td>\n",
              "      <td>0</td>\n",
              "      <td>4.0</td>\n",
              "      <td>1.0</td>\n",
              "      <td>...</td>\n",
              "      <td>0</td>\n",
              "      <td>0</td>\n",
              "      <td>NaN</td>\n",
              "      <td>NaN</td>\n",
              "      <td>NaN</td>\n",
              "      <td>NaN</td>\n",
              "      <td>0</td>\n",
              "      <td>NaN</td>\n",
              "      <td>NaN</td>\n",
              "      <td>E</td>\n",
              "    </tr>\n",
              "    <tr>\n",
              "      <th>3476104</th>\n",
              "      <td>2</td>\n",
              "      <td>F</td>\n",
              "      <td>3</td>\n",
              "      <td>1</td>\n",
              "      <td>2</td>\n",
              "      <td>0</td>\n",
              "      <td>1.0</td>\n",
              "      <td>0</td>\n",
              "      <td>2.0</td>\n",
              "      <td>1.0</td>\n",
              "      <td>...</td>\n",
              "      <td>0</td>\n",
              "      <td>0</td>\n",
              "      <td>NaN</td>\n",
              "      <td>NaN</td>\n",
              "      <td>NaN</td>\n",
              "      <td>NaN</td>\n",
              "      <td>1</td>\n",
              "      <td>NaN</td>\n",
              "      <td>NaN</td>\n",
              "      <td>B</td>\n",
              "    </tr>\n",
              "  </tbody>\n",
              "</table>\n",
              "<p>3476105 rows × 24 columns</p>\n",
              "</div>"
            ],
            "text/plain": [
              "         TP_FAIXA_ETARIA TP_SEXO  TP_COR_RACA  TP_NACIONALIDADE  \\\n",
              "0                     14       M            2                 1   \n",
              "1                     14       M            1                 1   \n",
              "2                      5       F            2                 1   \n",
              "3                      6       M            3                 1   \n",
              "4                      4       M            3                 1   \n",
              "...                  ...     ...          ...               ...   \n",
              "3476100                3       M            1                 1   \n",
              "3476101               14       F            1                 1   \n",
              "3476102                2       M            1                 1   \n",
              "3476103                3       M            3                 1   \n",
              "3476104                2       F            3                 1   \n",
              "\n",
              "         TP_ST_CONCLUSAO  TP_ANO_CONCLUIU  TP_ENSINO  IN_TREINEIRO  \\\n",
              "0                      1                2        NaN             0   \n",
              "1                      1               16        NaN             0   \n",
              "2                      1                2        NaN             0   \n",
              "3                      1                2        NaN             0   \n",
              "4                      1                1        NaN             0   \n",
              "...                  ...              ...        ...           ...   \n",
              "3476100                2                0        1.0             0   \n",
              "3476101                2                0        NaN             0   \n",
              "3476102                2                0        1.0             0   \n",
              "3476103                2                0        1.0             0   \n",
              "3476104                2                0        1.0             0   \n",
              "\n",
              "         TP_DEPENDENCIA_ADM_ESC  TP_LOCALIZACAO_ESC  ...  TP_PRESENCA_LC  \\\n",
              "0                           NaN                 NaN  ...               0   \n",
              "1                           NaN                 NaN  ...               0   \n",
              "2                           NaN                 NaN  ...               1   \n",
              "3                           NaN                 NaN  ...               1   \n",
              "4                           NaN                 NaN  ...               0   \n",
              "...                         ...                 ...  ...             ...   \n",
              "3476100                     NaN                 NaN  ...               0   \n",
              "3476101                     2.0                 1.0  ...               0   \n",
              "3476102                     2.0                 1.0  ...               1   \n",
              "3476103                     4.0                 1.0  ...               0   \n",
              "3476104                     2.0                 1.0  ...               0   \n",
              "\n",
              "        TP_PRESENCA_MT  NU_NOTA_CN  NU_NOTA_CH  NU_NOTA_LC  NU_NOTA_MT  \\\n",
              "0                    0         NaN         NaN         NaN         NaN   \n",
              "1                    0         NaN         NaN         NaN         NaN   \n",
              "2                    1       421.1       546.0       498.8       565.3   \n",
              "3                    1       490.7       388.6       357.8       416.0   \n",
              "4                    0         NaN         NaN         NaN         NaN   \n",
              "...                ...         ...         ...         ...         ...   \n",
              "3476100              0         NaN         NaN         NaN         NaN   \n",
              "3476101              0         NaN         NaN         NaN         NaN   \n",
              "3476102              1       527.9       627.0       583.3       637.1   \n",
              "3476103              0         NaN         NaN         NaN         NaN   \n",
              "3476104              0         NaN         NaN         NaN         NaN   \n",
              "\n",
              "         TP_LINGUA  TP_STATUS_REDACAO  NU_NOTA_REDACAO  Q006  \n",
              "0                0                NaN              NaN     B  \n",
              "1                0                NaN              NaN     Q  \n",
              "2                1                1.0            760.0     B  \n",
              "3                1                1.0            320.0     A  \n",
              "4                0                NaN              NaN     B  \n",
              "...            ...                ...              ...   ...  \n",
              "3476100          1                NaN              NaN     F  \n",
              "3476101          1                NaN              NaN     B  \n",
              "3476102          0                1.0            660.0     G  \n",
              "3476103          0                NaN              NaN     E  \n",
              "3476104          1                NaN              NaN     B  \n",
              "\n",
              "[3476105 rows x 24 columns]"
            ]
          },
          "execution_count": 3,
          "metadata": {},
          "output_type": "execute_result"
        }
      ],
      "source": [
        "df_enem"
      ]
    },
    {
      "cell_type": "code",
      "execution_count": 8,
      "metadata": {
        "colab": {
          "base_uri": "https://localhost:8080/"
        },
        "id": "E7Miy3xJl9em",
        "outputId": "0d84900b-4e9a-4088-c9b3-1fd45af06373"
      },
      "outputs": [
        {
          "name": "stdout",
          "output_type": "stream",
          "text": [
            "<class 'pandas.core.frame.DataFrame'>\n",
            "RangeIndex: 3476105 entries, 0 to 3476104\n",
            "Data columns (total 24 columns):\n",
            " #   Column                  Dtype  \n",
            "---  ------                  -----  \n",
            " 0   TP_FAIXA_ETARIA         int64  \n",
            " 1   TP_SEXO                 object \n",
            " 2   TP_COR_RACA             int64  \n",
            " 3   TP_NACIONALIDADE        int64  \n",
            " 4   TP_ST_CONCLUSAO         int64  \n",
            " 5   TP_ANO_CONCLUIU         int64  \n",
            " 6   TP_ENSINO               float64\n",
            " 7   IN_TREINEIRO            int64  \n",
            " 8   TP_DEPENDENCIA_ADM_ESC  float64\n",
            " 9   TP_LOCALIZACAO_ESC      float64\n",
            " 10  TP_SIT_FUNC_ESC         float64\n",
            " 11  SG_UF_PROVA             object \n",
            " 12  TP_PRESENCA_CN          int64  \n",
            " 13  TP_PRESENCA_CH          int64  \n",
            " 14  TP_PRESENCA_LC          int64  \n",
            " 15  TP_PRESENCA_MT          int64  \n",
            " 16  NU_NOTA_CN              float64\n",
            " 17  NU_NOTA_CH              float64\n",
            " 18  NU_NOTA_LC              float64\n",
            " 19  NU_NOTA_MT              float64\n",
            " 20  TP_LINGUA               int64  \n",
            " 21  TP_STATUS_REDACAO       float64\n",
            " 22  NU_NOTA_REDACAO         float64\n",
            " 23  Q006                    object \n",
            "dtypes: float64(10), int64(11), object(3)\n",
            "memory usage: 636.5+ MB\n"
          ]
        }
      ],
      "source": [
        "df_enem.info()"
      ]
    },
    {
      "cell_type": "markdown",
      "metadata": {
        "id": "GDZ2yhXjj7MH"
      },
      "source": []
    },
    {
      "cell_type": "markdown",
      "metadata": {
        "id": "5KRV3S70qtyk"
      },
      "source": [
        "**Presença**\n",
        "\n",
        "CÓDIGO | SIGNIFICADO\n",
        "-------|-------------\n",
        "0      | Faltou\n",
        "1      | Presente\n",
        "2      | Eliminado\n"
      ]
    },
    {
      "cell_type": "code",
      "execution_count": 4,
      "metadata": {
        "colab": {
          "base_uri": "https://localhost:8080/"
        },
        "id": "llataSnakLvW",
        "outputId": "3125d09c-4e70-47a4-d6d9-a7507b61eab4"
      },
      "outputs": [
        {
          "name": "stdout",
          "output_type": "stream",
          "text": [
            "   TP_PRESENCA_CN  Count_CN  TP_PRESENCA_MT  Count_MT\n",
            "0               1   2355395               1   2355395\n",
            "1               0   1119133               0   1119133\n",
            "2               2      1577               2      1577\n",
            "   TP_PRESENCA_CH  Count_CH  TP_PRESENCA_LC  Count_LC\n",
            "0               1   2493442               1   2493442\n",
            "1               0    977981               0    977981\n",
            "2               2      4682               2      4682\n"
          ]
        }
      ],
      "source": [
        "vc_cn = df_enem['TP_PRESENCA_CN'].value_counts().reset_index()\n",
        "vc_mt = df_enem['TP_PRESENCA_MT'].value_counts().reset_index()\n",
        "\n",
        "vc_ch = df_enem['TP_PRESENCA_CH'].value_counts().reset_index()\n",
        "vc_lc = df_enem['TP_PRESENCA_LC'].value_counts().reset_index()\n",
        "\n",
        "\n",
        "#Renomeando as colunas para criar df\n",
        "vc_cn.columns = ['TP_PRESENCA_CN', 'Count_CN']\n",
        "vc_mt.columns = ['TP_PRESENCA_MT', 'Count_MT']\n",
        "\n",
        "vc_ch.columns = ['TP_PRESENCA_CH', 'Count_CH']\n",
        "vc_lc.columns = ['TP_PRESENCA_LC', 'Count_LC']\n",
        "\n",
        "# Mescla os DataFrames com base nas colunas 'TP_PRESENCA_CN' e 'TP_PRESENCA_CH'\n",
        "resultado_cn_mt = pd.merge(vc_cn, vc_mt, how='outer', left_on='TP_PRESENCA_CN', right_on='TP_PRESENCA_MT')\n",
        "resultado_ch_lc = pd.merge(vc_ch, vc_lc, how='outer', left_on='TP_PRESENCA_CH', right_on='TP_PRESENCA_LC')\n",
        "\n",
        "print(resultado_cn_mt)\n",
        "print(resultado_ch_lc)"
      ]
    },
    {
      "cell_type": "markdown",
      "metadata": {
        "id": "Ga5qYCXxoYsn"
      },
      "source": [
        "Os resultados das contagens sugerem que o TP_PRESENCA_CN E O TP_PRESENCA_MT contenham os mesmos dados.\n",
        "Os mesmo pode ser dito a respeito de TP_PRESENCA_CH E TP_PRESENCA_LC. LOGO:"
      ]
    },
    {
      "cell_type": "code",
      "execution_count": 29,
      "metadata": {
        "colab": {
          "base_uri": "https://localhost:8080/"
        },
        "id": "pIOcjYHxp7Vo",
        "outputId": "aae2c95e-7f29-4b90-c97e-2684c51fe527"
      },
      "outputs": [
        {
          "data": {
            "text/plain": [
              "2    2355395\n",
              "0    1119133\n",
              "4       1577\n",
              "dtype: int64"
            ]
          },
          "execution_count": 29,
          "metadata": {},
          "output_type": "execute_result"
        }
      ],
      "source": [
        "soma = df_enem['TP_PRESENCA_MT'] + df_enem['TP_PRESENCA_CN']\n",
        "soma.value_counts()\n"
      ]
    },
    {
      "cell_type": "markdown",
      "metadata": {
        "id": "9hqmaSVQqJ-6"
      },
      "source": [
        "### Logo quem faltou na prova MT também faltou na prova CN"
      ]
    },
    {
      "cell_type": "code",
      "execution_count": 30,
      "metadata": {
        "colab": {
          "base_uri": "https://localhost:8080/"
        },
        "id": "uyoulIMWqUEs",
        "outputId": "6854f4e6-1e52-4aad-a113-fc5e6214ba25"
      },
      "outputs": [
        {
          "data": {
            "text/plain": [
              "2    2493442\n",
              "0     977981\n",
              "4       4682\n",
              "dtype: int64"
            ]
          },
          "execution_count": 30,
          "metadata": {},
          "output_type": "execute_result"
        }
      ],
      "source": [
        "soma2 = df_enem['TP_PRESENCA_CH'] + df_enem['TP_PRESENCA_LC']\n",
        "soma2.value_counts()\n"
      ]
    },
    {
      "cell_type": "markdown",
      "metadata": {
        "id": "uJY2368zqW25"
      },
      "source": [
        "### Logo quem faltou na prova CH também faltou na prova LC"
      ]
    },
    {
      "cell_type": "code",
      "execution_count": 5,
      "metadata": {
        "id": "pttTY07-oX6n"
      },
      "outputs": [],
      "source": [
        "df_enem.drop(['TP_PRESENCA_CH', 'TP_PRESENCA_MT'], axis=1, inplace=True)\n",
        "df_enem.rename(columns={'TP_PRESENCA_CN': 'PRESENCA_CN_E_MT'}, inplace=True)\n",
        "df_enem.rename(columns={'TP_PRESENCA_LC': 'PRESENCA_LC_E_CH'}, inplace=True)\n",
        "df_enem.rename(columns={'Q006': 'RENDA_MENSAL'}, inplace=True)"
      ]
    },
    {
      "cell_type": "markdown",
      "metadata": {
        "id": "UJClNeNXvlN_"
      },
      "source": [
        "**NACIONALIDADE**\n",
        "\n",
        "CÓDIGO | SIGNIFICADO\n",
        "-------|-------------\n",
        "1      | Brasileiro(a)\n",
        "2      | Brasileiro(a) Naturalizado(a)\n",
        "3      | Estrangeiro(a)\n",
        "4      | Brasileiro(a) Nato(a), nascido(a) no exterior\n",
        "0      | Não Informado"
      ]
    },
    {
      "cell_type": "code",
      "execution_count": 7,
      "metadata": {
        "colab": {
          "base_uri": "https://localhost:8080/"
        },
        "id": "AGmLjLUVT1oq",
        "outputId": "41da7ca3-f7fe-4049-895a-383a7a331267"
      },
      "outputs": [
        {
          "data": {
            "text/plain": [
              "array([1, 2, 3, 4, 0])"
            ]
          },
          "execution_count": 7,
          "metadata": {},
          "output_type": "execute_result"
        }
      ],
      "source": [
        "df_enem['TP_NACIONALIDADE'].unique()"
      ]
    },
    {
      "cell_type": "markdown",
      "metadata": {
        "id": "ccYrdw4Qj88b"
      },
      "source": [
        "# Criação dos dicionarios para as categorias do banco de dados"
      ]
    },
    {
      "cell_type": "code",
      "execution_count": 33,
      "metadata": {
        "id": "FOJQpPKLfdja"
      },
      "outputs": [],
      "source": [
        "TP_FAIXA_ETARIA = {1:'Menor de 17 anos',\n",
        "2:'17 anos',\n",
        "3:'18 anos',\n",
        "4:'19 anos',\n",
        "5:'20 anos',\n",
        "6:'21 anos',\n",
        "7:'22 anos',\n",
        "8:'23 anos',\n",
        "9:'24 anos',\n",
        "10:'25 anos',\n",
        "11:'Entre 26 e 30 anos',\n",
        "12:'Entre 31 e 35 anos',\n",
        "13:'Entre 36 e 40 anos',\n",
        "14:'Entre 41 e 45 anos',\n",
        "15:'Entre 46 e 50 anos',\n",
        "16:'Entre 51 e 55 anos',\n",
        "17:'Entre 56 e 60 anos',\n",
        "18:'Entre 61 e 65 anos',\n",
        "19:'Entre 66 e 70 anos',\n",
        "20:'Maior de 70 anos'}\n",
        "\n",
        "TP_ESTADO_CIVIL = {0: 'Não informado',\n",
        "1:'Solteiro(a)',\n",
        "2:'Casado(a)/Mora com companheiro(a)',\n",
        "3:'Divorciado(a)/Desquitado(a)/Separado(a)',\n",
        "4:'Viúvo(a)'}\n",
        "\n",
        "TP_COR_RACA = {0:'Não declarado',\n",
        "1:'Branca',\n",
        "2:'Preta',\n",
        "3:'Parda',\n",
        "4:'Amarela',\n",
        "5:'Indígena ',\n",
        "6:'Não dispõe da informação'}\n",
        "\n",
        "TP_NACIONALIDADE = {0:'Não informado',\n",
        "1:'Brasileiro(a)',\n",
        "2:'Brasileiro(a) Naturalizado(a)',\n",
        "3:'Estrangeiro(a)',\n",
        "4:'Brasileiro(a) Nato(a), nascido(a) no exterior'}\n",
        "\n",
        "TP_ST_CONCLUSAO = {1:'Já concluí o Ensino Médio',\n",
        "2:'Estou cursando e concluirei o Ensino Médio em 2022',\n",
        "3:'Estou cursando e concluirei o Ensino Médio após 2022',\n",
        "4:'Não concluí e não estou cursando o Ensino Médio'}\n",
        "\n",
        "TP_ANO_CONCLUIU = {0:'Não informado',\n",
        "1:'2021',\n",
        "2:'2020',\n",
        "3:'2019',\n",
        "4:'2018',\n",
        "5:'2017',\n",
        "6:'2016',\n",
        "7:'2015',\n",
        "8:'2014',\n",
        "9:'2013',\n",
        "10:'2012',\n",
        "11:'2011',\n",
        "12:'2010',\n",
        "13:'2009',\n",
        "14:'2008',\n",
        "15:'2007',\n",
        "16:'Antes de 2007'}\n",
        "\n",
        "\n",
        "TP_ESCOLA = { 1:'Não Respondeu', 2:'Pública', 3:'Privada'}\n",
        "\n",
        "TP_ENSINO = {1:'Ensino Regular', 2:'Educação Especial - Modalidade Substitutiva'}\n",
        "\n",
        "\n",
        "IN_TREINEIRO = {1:'Sim', 0:'Não'}\n"
      ]
    },
    {
      "cell_type": "markdown",
      "metadata": {
        "id": "OLc6AH9fv2Ir"
      },
      "source": [
        "A análise acima não faz sentido pois não trata-se de dados quantitativos"
      ]
    },
    {
      "cell_type": "markdown",
      "metadata": {
        "id": "Bqh9hYlv2eW9"
      },
      "source": [
        "Análise Descritiva para as notas obtidas no exame\n",
        "\n"
      ]
    },
    {
      "cell_type": "code",
      "execution_count": 36,
      "metadata": {
        "colab": {
          "base_uri": "https://localhost:8080/",
          "height": 424
        },
        "id": "sYiQUFqDwkHe",
        "outputId": "71c386ee-bcd5-414b-fe9a-6b9e66d1de3a"
      },
      "outputs": [
        {
          "data": {
            "text/html": [
              "\n",
              "  <div id=\"df-aac68c3d-73dd-4aab-976e-ff8cfc0b0a9f\" class=\"colab-df-container\">\n",
              "    <div>\n",
              "<style scoped>\n",
              "    .dataframe tbody tr th:only-of-type {\n",
              "        vertical-align: middle;\n",
              "    }\n",
              "\n",
              "    .dataframe tbody tr th {\n",
              "        vertical-align: top;\n",
              "    }\n",
              "\n",
              "    .dataframe thead th {\n",
              "        text-align: right;\n",
              "    }\n",
              "</style>\n",
              "<table border=\"1\" class=\"dataframe\">\n",
              "  <thead>\n",
              "    <tr style=\"text-align: right;\">\n",
              "      <th></th>\n",
              "      <th>NU_NOTA_CN</th>\n",
              "      <th>NU_NOTA_CH</th>\n",
              "      <th>NU_NOTA_LC</th>\n",
              "      <th>NU_NOTA_MT</th>\n",
              "      <th>NU_NOTA_REDACAO</th>\n",
              "    </tr>\n",
              "  </thead>\n",
              "  <tbody>\n",
              "    <tr>\n",
              "      <th>0</th>\n",
              "      <td>NaN</td>\n",
              "      <td>NaN</td>\n",
              "      <td>NaN</td>\n",
              "      <td>NaN</td>\n",
              "      <td>NaN</td>\n",
              "    </tr>\n",
              "    <tr>\n",
              "      <th>1</th>\n",
              "      <td>NaN</td>\n",
              "      <td>NaN</td>\n",
              "      <td>NaN</td>\n",
              "      <td>NaN</td>\n",
              "      <td>NaN</td>\n",
              "    </tr>\n",
              "    <tr>\n",
              "      <th>2</th>\n",
              "      <td>421.1</td>\n",
              "      <td>546.0</td>\n",
              "      <td>498.8</td>\n",
              "      <td>565.3</td>\n",
              "      <td>760.0</td>\n",
              "    </tr>\n",
              "    <tr>\n",
              "      <th>3</th>\n",
              "      <td>490.7</td>\n",
              "      <td>388.6</td>\n",
              "      <td>357.8</td>\n",
              "      <td>416.0</td>\n",
              "      <td>320.0</td>\n",
              "    </tr>\n",
              "    <tr>\n",
              "      <th>4</th>\n",
              "      <td>NaN</td>\n",
              "      <td>NaN</td>\n",
              "      <td>NaN</td>\n",
              "      <td>NaN</td>\n",
              "      <td>NaN</td>\n",
              "    </tr>\n",
              "    <tr>\n",
              "      <th>...</th>\n",
              "      <td>...</td>\n",
              "      <td>...</td>\n",
              "      <td>...</td>\n",
              "      <td>...</td>\n",
              "      <td>...</td>\n",
              "    </tr>\n",
              "    <tr>\n",
              "      <th>3476100</th>\n",
              "      <td>NaN</td>\n",
              "      <td>NaN</td>\n",
              "      <td>NaN</td>\n",
              "      <td>NaN</td>\n",
              "      <td>NaN</td>\n",
              "    </tr>\n",
              "    <tr>\n",
              "      <th>3476101</th>\n",
              "      <td>NaN</td>\n",
              "      <td>NaN</td>\n",
              "      <td>NaN</td>\n",
              "      <td>NaN</td>\n",
              "      <td>NaN</td>\n",
              "    </tr>\n",
              "    <tr>\n",
              "      <th>3476102</th>\n",
              "      <td>527.9</td>\n",
              "      <td>627.0</td>\n",
              "      <td>583.3</td>\n",
              "      <td>637.1</td>\n",
              "      <td>660.0</td>\n",
              "    </tr>\n",
              "    <tr>\n",
              "      <th>3476103</th>\n",
              "      <td>NaN</td>\n",
              "      <td>NaN</td>\n",
              "      <td>NaN</td>\n",
              "      <td>NaN</td>\n",
              "      <td>NaN</td>\n",
              "    </tr>\n",
              "    <tr>\n",
              "      <th>3476104</th>\n",
              "      <td>NaN</td>\n",
              "      <td>NaN</td>\n",
              "      <td>NaN</td>\n",
              "      <td>NaN</td>\n",
              "      <td>NaN</td>\n",
              "    </tr>\n",
              "  </tbody>\n",
              "</table>\n",
              "<p>3476105 rows × 5 columns</p>\n",
              "</div>\n",
              "    <div class=\"colab-df-buttons\">\n",
              "\n",
              "  <div class=\"colab-df-container\">\n",
              "    <button class=\"colab-df-convert\" onclick=\"convertToInteractive('df-aac68c3d-73dd-4aab-976e-ff8cfc0b0a9f')\"\n",
              "            title=\"Convert this dataframe to an interactive table.\"\n",
              "            style=\"display:none;\">\n",
              "\n",
              "  <svg xmlns=\"http://www.w3.org/2000/svg\" height=\"24px\" viewBox=\"0 -960 960 960\">\n",
              "    <path d=\"M120-120v-720h720v720H120Zm60-500h600v-160H180v160Zm220 220h160v-160H400v160Zm0 220h160v-160H400v160ZM180-400h160v-160H180v160Zm440 0h160v-160H620v160ZM180-180h160v-160H180v160Zm440 0h160v-160H620v160Z\"/>\n",
              "  </svg>\n",
              "    </button>\n",
              "\n",
              "  <style>\n",
              "    .colab-df-container {\n",
              "      display:flex;\n",
              "      gap: 12px;\n",
              "    }\n",
              "\n",
              "    .colab-df-convert {\n",
              "      background-color: #E8F0FE;\n",
              "      border: none;\n",
              "      border-radius: 50%;\n",
              "      cursor: pointer;\n",
              "      display: none;\n",
              "      fill: #1967D2;\n",
              "      height: 32px;\n",
              "      padding: 0 0 0 0;\n",
              "      width: 32px;\n",
              "    }\n",
              "\n",
              "    .colab-df-convert:hover {\n",
              "      background-color: #E2EBFA;\n",
              "      box-shadow: 0px 1px 2px rgba(60, 64, 67, 0.3), 0px 1px 3px 1px rgba(60, 64, 67, 0.15);\n",
              "      fill: #174EA6;\n",
              "    }\n",
              "\n",
              "    .colab-df-buttons div {\n",
              "      margin-bottom: 4px;\n",
              "    }\n",
              "\n",
              "    [theme=dark] .colab-df-convert {\n",
              "      background-color: #3B4455;\n",
              "      fill: #D2E3FC;\n",
              "    }\n",
              "\n",
              "    [theme=dark] .colab-df-convert:hover {\n",
              "      background-color: #434B5C;\n",
              "      box-shadow: 0px 1px 3px 1px rgba(0, 0, 0, 0.15);\n",
              "      filter: drop-shadow(0px 1px 2px rgba(0, 0, 0, 0.3));\n",
              "      fill: #FFFFFF;\n",
              "    }\n",
              "  </style>\n",
              "\n",
              "    <script>\n",
              "      const buttonEl =\n",
              "        document.querySelector('#df-aac68c3d-73dd-4aab-976e-ff8cfc0b0a9f button.colab-df-convert');\n",
              "      buttonEl.style.display =\n",
              "        google.colab.kernel.accessAllowed ? 'block' : 'none';\n",
              "\n",
              "      async function convertToInteractive(key) {\n",
              "        const element = document.querySelector('#df-aac68c3d-73dd-4aab-976e-ff8cfc0b0a9f');\n",
              "        const dataTable =\n",
              "          await google.colab.kernel.invokeFunction('convertToInteractive',\n",
              "                                                    [key], {});\n",
              "        if (!dataTable) return;\n",
              "\n",
              "        const docLinkHtml = 'Like what you see? Visit the ' +\n",
              "          '<a target=\"_blank\" href=https://colab.research.google.com/notebooks/data_table.ipynb>data table notebook</a>'\n",
              "          + ' to learn more about interactive tables.';\n",
              "        element.innerHTML = '';\n",
              "        dataTable['output_type'] = 'display_data';\n",
              "        await google.colab.output.renderOutput(dataTable, element);\n",
              "        const docLink = document.createElement('div');\n",
              "        docLink.innerHTML = docLinkHtml;\n",
              "        element.appendChild(docLink);\n",
              "      }\n",
              "    </script>\n",
              "  </div>\n",
              "\n",
              "\n",
              "<div id=\"df-e379b404-9d30-4a9c-8011-917db7b354e0\">\n",
              "  <button class=\"colab-df-quickchart\" onclick=\"quickchart('df-e379b404-9d30-4a9c-8011-917db7b354e0')\"\n",
              "            title=\"Suggest charts\"\n",
              "            style=\"display:none;\">\n",
              "\n",
              "<svg xmlns=\"http://www.w3.org/2000/svg\" height=\"24px\"viewBox=\"0 0 24 24\"\n",
              "     width=\"24px\">\n",
              "    <g>\n",
              "        <path d=\"M19 3H5c-1.1 0-2 .9-2 2v14c0 1.1.9 2 2 2h14c1.1 0 2-.9 2-2V5c0-1.1-.9-2-2-2zM9 17H7v-7h2v7zm4 0h-2V7h2v10zm4 0h-2v-4h2v4z\"/>\n",
              "    </g>\n",
              "</svg>\n",
              "  </button>\n",
              "\n",
              "<style>\n",
              "  .colab-df-quickchart {\n",
              "      --bg-color: #E8F0FE;\n",
              "      --fill-color: #1967D2;\n",
              "      --hover-bg-color: #E2EBFA;\n",
              "      --hover-fill-color: #174EA6;\n",
              "      --disabled-fill-color: #AAA;\n",
              "      --disabled-bg-color: #DDD;\n",
              "  }\n",
              "\n",
              "  [theme=dark] .colab-df-quickchart {\n",
              "      --bg-color: #3B4455;\n",
              "      --fill-color: #D2E3FC;\n",
              "      --hover-bg-color: #434B5C;\n",
              "      --hover-fill-color: #FFFFFF;\n",
              "      --disabled-bg-color: #3B4455;\n",
              "      --disabled-fill-color: #666;\n",
              "  }\n",
              "\n",
              "  .colab-df-quickchart {\n",
              "    background-color: var(--bg-color);\n",
              "    border: none;\n",
              "    border-radius: 50%;\n",
              "    cursor: pointer;\n",
              "    display: none;\n",
              "    fill: var(--fill-color);\n",
              "    height: 32px;\n",
              "    padding: 0;\n",
              "    width: 32px;\n",
              "  }\n",
              "\n",
              "  .colab-df-quickchart:hover {\n",
              "    background-color: var(--hover-bg-color);\n",
              "    box-shadow: 0 1px 2px rgba(60, 64, 67, 0.3), 0 1px 3px 1px rgba(60, 64, 67, 0.15);\n",
              "    fill: var(--button-hover-fill-color);\n",
              "  }\n",
              "\n",
              "  .colab-df-quickchart-complete:disabled,\n",
              "  .colab-df-quickchart-complete:disabled:hover {\n",
              "    background-color: var(--disabled-bg-color);\n",
              "    fill: var(--disabled-fill-color);\n",
              "    box-shadow: none;\n",
              "  }\n",
              "\n",
              "  .colab-df-spinner {\n",
              "    border: 2px solid var(--fill-color);\n",
              "    border-color: transparent;\n",
              "    border-bottom-color: var(--fill-color);\n",
              "    animation:\n",
              "      spin 1s steps(1) infinite;\n",
              "  }\n",
              "\n",
              "  @keyframes spin {\n",
              "    0% {\n",
              "      border-color: transparent;\n",
              "      border-bottom-color: var(--fill-color);\n",
              "      border-left-color: var(--fill-color);\n",
              "    }\n",
              "    20% {\n",
              "      border-color: transparent;\n",
              "      border-left-color: var(--fill-color);\n",
              "      border-top-color: var(--fill-color);\n",
              "    }\n",
              "    30% {\n",
              "      border-color: transparent;\n",
              "      border-left-color: var(--fill-color);\n",
              "      border-top-color: var(--fill-color);\n",
              "      border-right-color: var(--fill-color);\n",
              "    }\n",
              "    40% {\n",
              "      border-color: transparent;\n",
              "      border-right-color: var(--fill-color);\n",
              "      border-top-color: var(--fill-color);\n",
              "    }\n",
              "    60% {\n",
              "      border-color: transparent;\n",
              "      border-right-color: var(--fill-color);\n",
              "    }\n",
              "    80% {\n",
              "      border-color: transparent;\n",
              "      border-right-color: var(--fill-color);\n",
              "      border-bottom-color: var(--fill-color);\n",
              "    }\n",
              "    90% {\n",
              "      border-color: transparent;\n",
              "      border-bottom-color: var(--fill-color);\n",
              "    }\n",
              "  }\n",
              "</style>\n",
              "\n",
              "  <script>\n",
              "    async function quickchart(key) {\n",
              "      const quickchartButtonEl =\n",
              "        document.querySelector('#' + key + ' button');\n",
              "      quickchartButtonEl.disabled = true;  // To prevent multiple clicks.\n",
              "      quickchartButtonEl.classList.add('colab-df-spinner');\n",
              "      try {\n",
              "        const charts = await google.colab.kernel.invokeFunction(\n",
              "            'suggestCharts', [key], {});\n",
              "      } catch (error) {\n",
              "        console.error('Error during call to suggestCharts:', error);\n",
              "      }\n",
              "      quickchartButtonEl.classList.remove('colab-df-spinner');\n",
              "      quickchartButtonEl.classList.add('colab-df-quickchart-complete');\n",
              "    }\n",
              "    (() => {\n",
              "      let quickchartButtonEl =\n",
              "        document.querySelector('#df-e379b404-9d30-4a9c-8011-917db7b354e0 button');\n",
              "      quickchartButtonEl.style.display =\n",
              "        google.colab.kernel.accessAllowed ? 'block' : 'none';\n",
              "    })();\n",
              "  </script>\n",
              "</div>\n",
              "\n",
              "    </div>\n",
              "  </div>\n"
            ],
            "text/plain": [
              "         NU_NOTA_CN  NU_NOTA_CH  NU_NOTA_LC  NU_NOTA_MT  NU_NOTA_REDACAO\n",
              "0               NaN         NaN         NaN         NaN              NaN\n",
              "1               NaN         NaN         NaN         NaN              NaN\n",
              "2             421.1       546.0       498.8       565.3            760.0\n",
              "3             490.7       388.6       357.8       416.0            320.0\n",
              "4               NaN         NaN         NaN         NaN              NaN\n",
              "...             ...         ...         ...         ...              ...\n",
              "3476100         NaN         NaN         NaN         NaN              NaN\n",
              "3476101         NaN         NaN         NaN         NaN              NaN\n",
              "3476102       527.9       627.0       583.3       637.1            660.0\n",
              "3476103         NaN         NaN         NaN         NaN              NaN\n",
              "3476104         NaN         NaN         NaN         NaN              NaN\n",
              "\n",
              "[3476105 rows x 5 columns]"
            ]
          },
          "execution_count": 36,
          "metadata": {},
          "output_type": "execute_result"
        }
      ],
      "source": [
        "df_enem[['NU_NOTA_CN', 'NU_NOTA_CH','NU_NOTA_LC', 'NU_NOTA_MT','NU_NOTA_REDACAO']]"
      ]
    },
    {
      "cell_type": "markdown",
      "metadata": {
        "id": "zf_gfffIwoUj"
      },
      "source": [
        "**Há muitos valores NaN nas notas que precisarão ser tratados**"
      ]
    },
    {
      "cell_type": "code",
      "execution_count": 37,
      "metadata": {
        "id": "2oTeAIjUvoTp"
      },
      "outputs": [],
      "source": [
        "notas = ['NU_NOTA_CN', 'NU_NOTA_CH','NU_NOTA_LC', 'NU_NOTA_MT','NU_NOTA_REDACAO']\n",
        "descritivo_notas  = df_enem[notas].describe()"
      ]
    },
    {
      "cell_type": "code",
      "execution_count": 38,
      "metadata": {
        "colab": {
          "base_uri": "https://localhost:8080/",
          "height": 300
        },
        "id": "02tIP0hrwcxi",
        "outputId": "1cf14421-e410-46fb-e0c4-a7d82212b08d"
      },
      "outputs": [
        {
          "data": {
            "text/html": [
              "\n",
              "  <div id=\"df-909e7368-af5c-40f4-b703-03682eb10073\" class=\"colab-df-container\">\n",
              "    <div>\n",
              "<style scoped>\n",
              "    .dataframe tbody tr th:only-of-type {\n",
              "        vertical-align: middle;\n",
              "    }\n",
              "\n",
              "    .dataframe tbody tr th {\n",
              "        vertical-align: top;\n",
              "    }\n",
              "\n",
              "    .dataframe thead th {\n",
              "        text-align: right;\n",
              "    }\n",
              "</style>\n",
              "<table border=\"1\" class=\"dataframe\">\n",
              "  <thead>\n",
              "    <tr style=\"text-align: right;\">\n",
              "      <th></th>\n",
              "      <th>Ciencias Naturais</th>\n",
              "      <th>Ciencias Humanas</th>\n",
              "      <th>Linguagem e Código</th>\n",
              "      <th>Matemática</th>\n",
              "      <th>Redação</th>\n",
              "    </tr>\n",
              "  </thead>\n",
              "  <tbody>\n",
              "    <tr>\n",
              "      <th>count</th>\n",
              "      <td>2.355395e+06</td>\n",
              "      <td>2.493442e+06</td>\n",
              "      <td>2.493442e+06</td>\n",
              "      <td>2.355395e+06</td>\n",
              "      <td>2.493442e+06</td>\n",
              "    </tr>\n",
              "    <tr>\n",
              "      <th>mean</th>\n",
              "      <td>4.959305e+02</td>\n",
              "      <td>5.269531e+02</td>\n",
              "      <td>5.174389e+02</td>\n",
              "      <td>5.425032e+02</td>\n",
              "      <td>6.184797e+02</td>\n",
              "    </tr>\n",
              "    <tr>\n",
              "      <th>std</th>\n",
              "      <td>7.200975e+01</td>\n",
              "      <td>8.148446e+01</td>\n",
              "      <td>7.755491e+01</td>\n",
              "      <td>1.160225e+02</td>\n",
              "      <td>2.122125e+02</td>\n",
              "    </tr>\n",
              "    <tr>\n",
              "      <th>min</th>\n",
              "      <td>0.000000e+00</td>\n",
              "      <td>0.000000e+00</td>\n",
              "      <td>0.000000e+00</td>\n",
              "      <td>0.000000e+00</td>\n",
              "      <td>0.000000e+00</td>\n",
              "    </tr>\n",
              "    <tr>\n",
              "      <th>25%</th>\n",
              "      <td>4.405000e+02</td>\n",
              "      <td>4.770000e+02</td>\n",
              "      <td>4.684000e+02</td>\n",
              "      <td>4.490000e+02</td>\n",
              "      <td>5.200000e+02</td>\n",
              "    </tr>\n",
              "    <tr>\n",
              "      <th>50%</th>\n",
              "      <td>4.856000e+02</td>\n",
              "      <td>5.299000e+02</td>\n",
              "      <td>5.255000e+02</td>\n",
              "      <td>5.308000e+02</td>\n",
              "      <td>6.200000e+02</td>\n",
              "    </tr>\n",
              "    <tr>\n",
              "      <th>75%</th>\n",
              "      <td>5.433000e+02</td>\n",
              "      <td>5.819000e+02</td>\n",
              "      <td>5.732000e+02</td>\n",
              "      <td>6.224000e+02</td>\n",
              "      <td>7.600000e+02</td>\n",
              "    </tr>\n",
              "    <tr>\n",
              "      <th>max</th>\n",
              "      <td>8.753000e+02</td>\n",
              "      <td>8.392000e+02</td>\n",
              "      <td>8.010000e+02</td>\n",
              "      <td>9.857000e+02</td>\n",
              "      <td>1.000000e+03</td>\n",
              "    </tr>\n",
              "  </tbody>\n",
              "</table>\n",
              "</div>\n",
              "    <div class=\"colab-df-buttons\">\n",
              "\n",
              "  <div class=\"colab-df-container\">\n",
              "    <button class=\"colab-df-convert\" onclick=\"convertToInteractive('df-909e7368-af5c-40f4-b703-03682eb10073')\"\n",
              "            title=\"Convert this dataframe to an interactive table.\"\n",
              "            style=\"display:none;\">\n",
              "\n",
              "  <svg xmlns=\"http://www.w3.org/2000/svg\" height=\"24px\" viewBox=\"0 -960 960 960\">\n",
              "    <path d=\"M120-120v-720h720v720H120Zm60-500h600v-160H180v160Zm220 220h160v-160H400v160Zm0 220h160v-160H400v160ZM180-400h160v-160H180v160Zm440 0h160v-160H620v160ZM180-180h160v-160H180v160Zm440 0h160v-160H620v160Z\"/>\n",
              "  </svg>\n",
              "    </button>\n",
              "\n",
              "  <style>\n",
              "    .colab-df-container {\n",
              "      display:flex;\n",
              "      gap: 12px;\n",
              "    }\n",
              "\n",
              "    .colab-df-convert {\n",
              "      background-color: #E8F0FE;\n",
              "      border: none;\n",
              "      border-radius: 50%;\n",
              "      cursor: pointer;\n",
              "      display: none;\n",
              "      fill: #1967D2;\n",
              "      height: 32px;\n",
              "      padding: 0 0 0 0;\n",
              "      width: 32px;\n",
              "    }\n",
              "\n",
              "    .colab-df-convert:hover {\n",
              "      background-color: #E2EBFA;\n",
              "      box-shadow: 0px 1px 2px rgba(60, 64, 67, 0.3), 0px 1px 3px 1px rgba(60, 64, 67, 0.15);\n",
              "      fill: #174EA6;\n",
              "    }\n",
              "\n",
              "    .colab-df-buttons div {\n",
              "      margin-bottom: 4px;\n",
              "    }\n",
              "\n",
              "    [theme=dark] .colab-df-convert {\n",
              "      background-color: #3B4455;\n",
              "      fill: #D2E3FC;\n",
              "    }\n",
              "\n",
              "    [theme=dark] .colab-df-convert:hover {\n",
              "      background-color: #434B5C;\n",
              "      box-shadow: 0px 1px 3px 1px rgba(0, 0, 0, 0.15);\n",
              "      filter: drop-shadow(0px 1px 2px rgba(0, 0, 0, 0.3));\n",
              "      fill: #FFFFFF;\n",
              "    }\n",
              "  </style>\n",
              "\n",
              "    <script>\n",
              "      const buttonEl =\n",
              "        document.querySelector('#df-909e7368-af5c-40f4-b703-03682eb10073 button.colab-df-convert');\n",
              "      buttonEl.style.display =\n",
              "        google.colab.kernel.accessAllowed ? 'block' : 'none';\n",
              "\n",
              "      async function convertToInteractive(key) {\n",
              "        const element = document.querySelector('#df-909e7368-af5c-40f4-b703-03682eb10073');\n",
              "        const dataTable =\n",
              "          await google.colab.kernel.invokeFunction('convertToInteractive',\n",
              "                                                    [key], {});\n",
              "        if (!dataTable) return;\n",
              "\n",
              "        const docLinkHtml = 'Like what you see? Visit the ' +\n",
              "          '<a target=\"_blank\" href=https://colab.research.google.com/notebooks/data_table.ipynb>data table notebook</a>'\n",
              "          + ' to learn more about interactive tables.';\n",
              "        element.innerHTML = '';\n",
              "        dataTable['output_type'] = 'display_data';\n",
              "        await google.colab.output.renderOutput(dataTable, element);\n",
              "        const docLink = document.createElement('div');\n",
              "        docLink.innerHTML = docLinkHtml;\n",
              "        element.appendChild(docLink);\n",
              "      }\n",
              "    </script>\n",
              "  </div>\n",
              "\n",
              "\n",
              "<div id=\"df-6488035b-a2ad-423d-9bce-36e954aa1259\">\n",
              "  <button class=\"colab-df-quickchart\" onclick=\"quickchart('df-6488035b-a2ad-423d-9bce-36e954aa1259')\"\n",
              "            title=\"Suggest charts\"\n",
              "            style=\"display:none;\">\n",
              "\n",
              "<svg xmlns=\"http://www.w3.org/2000/svg\" height=\"24px\"viewBox=\"0 0 24 24\"\n",
              "     width=\"24px\">\n",
              "    <g>\n",
              "        <path d=\"M19 3H5c-1.1 0-2 .9-2 2v14c0 1.1.9 2 2 2h14c1.1 0 2-.9 2-2V5c0-1.1-.9-2-2-2zM9 17H7v-7h2v7zm4 0h-2V7h2v10zm4 0h-2v-4h2v4z\"/>\n",
              "    </g>\n",
              "</svg>\n",
              "  </button>\n",
              "\n",
              "<style>\n",
              "  .colab-df-quickchart {\n",
              "      --bg-color: #E8F0FE;\n",
              "      --fill-color: #1967D2;\n",
              "      --hover-bg-color: #E2EBFA;\n",
              "      --hover-fill-color: #174EA6;\n",
              "      --disabled-fill-color: #AAA;\n",
              "      --disabled-bg-color: #DDD;\n",
              "  }\n",
              "\n",
              "  [theme=dark] .colab-df-quickchart {\n",
              "      --bg-color: #3B4455;\n",
              "      --fill-color: #D2E3FC;\n",
              "      --hover-bg-color: #434B5C;\n",
              "      --hover-fill-color: #FFFFFF;\n",
              "      --disabled-bg-color: #3B4455;\n",
              "      --disabled-fill-color: #666;\n",
              "  }\n",
              "\n",
              "  .colab-df-quickchart {\n",
              "    background-color: var(--bg-color);\n",
              "    border: none;\n",
              "    border-radius: 50%;\n",
              "    cursor: pointer;\n",
              "    display: none;\n",
              "    fill: var(--fill-color);\n",
              "    height: 32px;\n",
              "    padding: 0;\n",
              "    width: 32px;\n",
              "  }\n",
              "\n",
              "  .colab-df-quickchart:hover {\n",
              "    background-color: var(--hover-bg-color);\n",
              "    box-shadow: 0 1px 2px rgba(60, 64, 67, 0.3), 0 1px 3px 1px rgba(60, 64, 67, 0.15);\n",
              "    fill: var(--button-hover-fill-color);\n",
              "  }\n",
              "\n",
              "  .colab-df-quickchart-complete:disabled,\n",
              "  .colab-df-quickchart-complete:disabled:hover {\n",
              "    background-color: var(--disabled-bg-color);\n",
              "    fill: var(--disabled-fill-color);\n",
              "    box-shadow: none;\n",
              "  }\n",
              "\n",
              "  .colab-df-spinner {\n",
              "    border: 2px solid var(--fill-color);\n",
              "    border-color: transparent;\n",
              "    border-bottom-color: var(--fill-color);\n",
              "    animation:\n",
              "      spin 1s steps(1) infinite;\n",
              "  }\n",
              "\n",
              "  @keyframes spin {\n",
              "    0% {\n",
              "      border-color: transparent;\n",
              "      border-bottom-color: var(--fill-color);\n",
              "      border-left-color: var(--fill-color);\n",
              "    }\n",
              "    20% {\n",
              "      border-color: transparent;\n",
              "      border-left-color: var(--fill-color);\n",
              "      border-top-color: var(--fill-color);\n",
              "    }\n",
              "    30% {\n",
              "      border-color: transparent;\n",
              "      border-left-color: var(--fill-color);\n",
              "      border-top-color: var(--fill-color);\n",
              "      border-right-color: var(--fill-color);\n",
              "    }\n",
              "    40% {\n",
              "      border-color: transparent;\n",
              "      border-right-color: var(--fill-color);\n",
              "      border-top-color: var(--fill-color);\n",
              "    }\n",
              "    60% {\n",
              "      border-color: transparent;\n",
              "      border-right-color: var(--fill-color);\n",
              "    }\n",
              "    80% {\n",
              "      border-color: transparent;\n",
              "      border-right-color: var(--fill-color);\n",
              "      border-bottom-color: var(--fill-color);\n",
              "    }\n",
              "    90% {\n",
              "      border-color: transparent;\n",
              "      border-bottom-color: var(--fill-color);\n",
              "    }\n",
              "  }\n",
              "</style>\n",
              "\n",
              "  <script>\n",
              "    async function quickchart(key) {\n",
              "      const quickchartButtonEl =\n",
              "        document.querySelector('#' + key + ' button');\n",
              "      quickchartButtonEl.disabled = true;  // To prevent multiple clicks.\n",
              "      quickchartButtonEl.classList.add('colab-df-spinner');\n",
              "      try {\n",
              "        const charts = await google.colab.kernel.invokeFunction(\n",
              "            'suggestCharts', [key], {});\n",
              "      } catch (error) {\n",
              "        console.error('Error during call to suggestCharts:', error);\n",
              "      }\n",
              "      quickchartButtonEl.classList.remove('colab-df-spinner');\n",
              "      quickchartButtonEl.classList.add('colab-df-quickchart-complete');\n",
              "    }\n",
              "    (() => {\n",
              "      let quickchartButtonEl =\n",
              "        document.querySelector('#df-6488035b-a2ad-423d-9bce-36e954aa1259 button');\n",
              "      quickchartButtonEl.style.display =\n",
              "        google.colab.kernel.accessAllowed ? 'block' : 'none';\n",
              "    })();\n",
              "  </script>\n",
              "</div>\n",
              "\n",
              "  <div id=\"id_064891e7-23f1-4168-8c44-239d57d0a00e\">\n",
              "    <style>\n",
              "      .colab-df-generate {\n",
              "        background-color: #E8F0FE;\n",
              "        border: none;\n",
              "        border-radius: 50%;\n",
              "        cursor: pointer;\n",
              "        display: none;\n",
              "        fill: #1967D2;\n",
              "        height: 32px;\n",
              "        padding: 0 0 0 0;\n",
              "        width: 32px;\n",
              "      }\n",
              "\n",
              "      .colab-df-generate:hover {\n",
              "        background-color: #E2EBFA;\n",
              "        box-shadow: 0px 1px 2px rgba(60, 64, 67, 0.3), 0px 1px 3px 1px rgba(60, 64, 67, 0.15);\n",
              "        fill: #174EA6;\n",
              "      }\n",
              "\n",
              "      [theme=dark] .colab-df-generate {\n",
              "        background-color: #3B4455;\n",
              "        fill: #D2E3FC;\n",
              "      }\n",
              "\n",
              "      [theme=dark] .colab-df-generate:hover {\n",
              "        background-color: #434B5C;\n",
              "        box-shadow: 0px 1px 3px 1px rgba(0, 0, 0, 0.15);\n",
              "        filter: drop-shadow(0px 1px 2px rgba(0, 0, 0, 0.3));\n",
              "        fill: #FFFFFF;\n",
              "      }\n",
              "    </style>\n",
              "    <button class=\"colab-df-generate\" onclick=\"generateWithVariable('descritivo_notas')\"\n",
              "            title=\"Generate code using this dataframe.\"\n",
              "            style=\"display:none;\">\n",
              "\n",
              "  <svg xmlns=\"http://www.w3.org/2000/svg\" height=\"24px\"viewBox=\"0 0 24 24\"\n",
              "       width=\"24px\">\n",
              "    <path d=\"M7,19H8.4L18.45,9,17,7.55,7,17.6ZM5,21V16.75L18.45,3.32a2,2,0,0,1,2.83,0l1.4,1.43a1.91,1.91,0,0,1,.58,1.4,1.91,1.91,0,0,1-.58,1.4L9.25,21ZM18.45,9,17,7.55Zm-12,3A5.31,5.31,0,0,0,4.9,8.1,5.31,5.31,0,0,0,1,6.5,5.31,5.31,0,0,0,4.9,4.9,5.31,5.31,0,0,0,6.5,1,5.31,5.31,0,0,0,8.1,4.9,5.31,5.31,0,0,0,12,6.5,5.46,5.46,0,0,0,6.5,12Z\"/>\n",
              "  </svg>\n",
              "    </button>\n",
              "    <script>\n",
              "      (() => {\n",
              "      const buttonEl =\n",
              "        document.querySelector('#id_064891e7-23f1-4168-8c44-239d57d0a00e button.colab-df-generate');\n",
              "      buttonEl.style.display =\n",
              "        google.colab.kernel.accessAllowed ? 'block' : 'none';\n",
              "\n",
              "      buttonEl.onclick = () => {\n",
              "        google.colab.notebook.generateWithVariable('descritivo_notas');\n",
              "      }\n",
              "      })();\n",
              "    </script>\n",
              "  </div>\n",
              "\n",
              "    </div>\n",
              "  </div>\n"
            ],
            "text/plain": [
              "       Ciencias Naturais  Ciencias Humanas  Linguagem e Código    Matemática  \\\n",
              "count       2.355395e+06      2.493442e+06        2.493442e+06  2.355395e+06   \n",
              "mean        4.959305e+02      5.269531e+02        5.174389e+02  5.425032e+02   \n",
              "std         7.200975e+01      8.148446e+01        7.755491e+01  1.160225e+02   \n",
              "min         0.000000e+00      0.000000e+00        0.000000e+00  0.000000e+00   \n",
              "25%         4.405000e+02      4.770000e+02        4.684000e+02  4.490000e+02   \n",
              "50%         4.856000e+02      5.299000e+02        5.255000e+02  5.308000e+02   \n",
              "75%         5.433000e+02      5.819000e+02        5.732000e+02  6.224000e+02   \n",
              "max         8.753000e+02      8.392000e+02        8.010000e+02  9.857000e+02   \n",
              "\n",
              "            Redação  \n",
              "count  2.493442e+06  \n",
              "mean   6.184797e+02  \n",
              "std    2.122125e+02  \n",
              "min    0.000000e+00  \n",
              "25%    5.200000e+02  \n",
              "50%    6.200000e+02  \n",
              "75%    7.600000e+02  \n",
              "max    1.000000e+03  "
            ]
          },
          "execution_count": 38,
          "metadata": {},
          "output_type": "execute_result"
        }
      ],
      "source": [
        "descritivo_notas.rename(columns={'NU_NOTA_CN':'Ciencias Naturais',\n",
        "                                 'NU_NOTA_CH':'Ciencias Humanas',\n",
        "                                 'NU_NOTA_LC': 'Linguagem e Código',\n",
        "                                 'NU_NOTA_MT': 'Matemática',\n",
        "                                 'NU_NOTA_REDACAO':'Redação' },inplace=True)\n",
        "\n",
        "descritivo_notas"
      ]
    },
    {
      "cell_type": "code",
      "execution_count": 39,
      "metadata": {
        "colab": {
          "base_uri": "https://localhost:8080/",
          "height": 523
        },
        "id": "jO1Fdwsmwy__",
        "outputId": "b72d0b4b-a7f3-4a3d-853e-a45cf8017daf"
      },
      "outputs": [
        {
          "data": {
            "image/png": "[encoded data removed]",
            "text/plain": [
              "<Figure size 1000x600 with 1 Axes>"
            ]
          },
          "metadata": {},
          "output_type": "display_data"
        }
      ],
      "source": [
        "plt.figure(figsize=(10, 6))  # Ajuste o tamanho da figura conforme necessário\n",
        "boxplot = descritivo_notas.drop('count').boxplot(widths=0.5)\n",
        "figura = boxplot.get_figure()\n",
        "plt.show()"
      ]
    },
    {
      "cell_type": "code",
      "execution_count": null,
      "metadata": {
        "id": "B6XRT5dvhHFN"
      },
      "outputs": [],
      "source": [
        "#### DÚVIDA DE QUAL BOXPLOT ESTÁ CERTO!!!\n",
        "### Também não sei (Ricardo)"
      ]
    },
    {
      "cell_type": "code",
      "execution_count": 40,
      "metadata": {
        "colab": {
          "base_uri": "https://localhost:8080/",
          "height": 494
        },
        "id": "d9bvcj0ehHFN",
        "outputId": "25e92135-42aa-4f8e-9b62-923015ec8a3e"
      },
      "outputs": [
        {
          "data": {
            "text/plain": [
              "Text(0.5, 0, 'Blocos de Conhecimento')"
            ]
          },
          "execution_count": 40,
          "metadata": {},
          "output_type": "execute_result"
        },
        {
          "data": {
            "image/png": "[encoded data removed]",
            "text/plain": [
              "<Figure size 640x480 with 1 Axes>"
            ]
          },
          "metadata": {},
          "output_type": "display_data"
        }
      ],
      "source": [
        "plt.title(\"Diagrama de Caixa das Notas por Bloco de Conhecimento\")\n",
        "#plt.boxplot(df_enem[notas], patch_artist=True, labels=['Ciencias Humanas','Linguagem e Código','Matemática','Redação'])\n",
        "#plt.show()\n",
        "red_circle = dict(markerfacecolor='red', marker='o')\n",
        "mean_shape = dict(markerfacecolor='green', marker='D', markeredgecolor='green')\n",
        "gboxplot = df_enem.boxplot(column = notas,\n",
        "                          flierprops=red_circle,showmeans=True, meanprops=mean_shape)\n",
        "\n",
        "gboxplot.set_xlabel('Blocos de Conhecimento', fontsize=14)"
      ]
    },
    {
      "cell_type": "markdown",
      "metadata": {
        "id": "hADArYmr2K8z"
      },
      "source": [
        "# Distribuição de acordo com o sexo na realização da prova (M - masculino / F - Feminino)"
      ]
    },
    {
      "cell_type": "code",
      "execution_count": 41,
      "metadata": {
        "colab": {
          "base_uri": "https://localhost:8080/"
        },
        "id": "BhGrW9pr1hdO",
        "outputId": "fb41f027-5ea0-442c-c10c-27484b719b86"
      },
      "outputs": [
        {
          "data": {
            "text/plain": [
              "array(['M', 'F'], dtype=object)"
            ]
          },
          "execution_count": 41,
          "metadata": {},
          "output_type": "execute_result"
        }
      ],
      "source": [
        "df_enem['TP_SEXO'].unique()"
      ]
    },
    {
      "cell_type": "code",
      "execution_count": 42,
      "metadata": {
        "colab": {
          "base_uri": "https://localhost:8080/"
        },
        "id": "ptAnD8oU1ta3",
        "outputId": "82f816dd-fd17-49c9-dc2c-ef91d7bbb6e4"
      },
      "outputs": [
        {
          "data": {
            "text/plain": [
              "F    2120519\n",
              "M    1355586\n",
              "Name: TP_SEXO, dtype: int64"
            ]
          },
          "execution_count": 42,
          "metadata": {},
          "output_type": "execute_result"
        }
      ],
      "source": [
        "df_enem['TP_SEXO'].value_counts()"
      ]
    },
    {
      "cell_type": "code",
      "execution_count": 43,
      "metadata": {
        "colab": {
          "base_uri": "https://localhost:8080/"
        },
        "id": "89yqjNfR1965",
        "outputId": "58693dbf-a7d5-465b-be13-2452bd53a34a"
      },
      "outputs": [
        {
          "data": {
            "text/plain": [
              "F    61.002732\n",
              "M    38.997268\n",
              "Name: TP_SEXO, dtype: float64"
            ]
          },
          "execution_count": 43,
          "metadata": {},
          "output_type": "execute_result"
        }
      ],
      "source": [
        "df_enem['TP_SEXO'].value_counts(normalize=True)*100"
      ]
    },
    {
      "cell_type": "code",
      "execution_count": 45,
      "metadata": {
        "id": "gA-4AiYkhHFO"
      },
      "outputs": [],
      "source": [
        "insc_p_sexo = df_enem['TP_SEXO'].value_counts(normalize=True)*100"
      ]
    },
    {
      "cell_type": "code",
      "execution_count": 46,
      "metadata": {
        "colab": {
          "base_uri": "https://localhost:8080/"
        },
        "id": "zFnFpFJBhHFO",
        "outputId": "1c53cd8b-cf08-46fd-bd90-4f46bd305086"
      },
      "outputs": [
        {
          "data": {
            "text/plain": [
              "F    61.002732\n",
              "M    38.997268\n",
              "Name: TP_SEXO, dtype: float64"
            ]
          },
          "execution_count": 46,
          "metadata": {},
          "output_type": "execute_result"
        }
      ],
      "source": [
        "insc_p_sexo"
      ]
    },
    {
      "cell_type": "code",
      "execution_count": 47,
      "metadata": {
        "colab": {
          "base_uri": "https://localhost:8080/",
          "height": 469
        },
        "id": "X9Ddta2thHFO",
        "outputId": "cac4e145-e0da-4219-e0de-6f582e4b1fd8"
      },
      "outputs": [
        {
          "data": {
            "text/plain": [
              "Text(0.5, 1.0, 'Gênero dos inscritos no ENEM - 2022')"
            ]
          },
          "execution_count": 47,
          "metadata": {},
          "output_type": "execute_result"
        },
        {
          "data": {
            "image/png": "[encoded data removed]",
            "text/plain": [
              "<Figure size 1200x500 with 1 Axes>"
            ]
          },
          "metadata": {},
          "output_type": "display_data"
        }
      ],
      "source": [
        "fig, ax = plt.subplots(figsize=(12, 5))\n",
        "labels = (\"Feminino\", \"Masculino\")\n",
        "explode = (0.10, 0) #distâncias entre as fatias\n",
        "ax.pie(insc_p_sexo,\n",
        "       labels=labels,\n",
        "       autopct=\"%.2f%%\",\n",
        "       shadow=False,\n",
        "       explode=explode,\n",
        "       startangle=70,\n",
        "       colors=[\"red\", \"cyan\"],\n",
        "       textprops={'fontsize': 18})\n",
        "ax.set_title('Gênero dos inscritos no ENEM - 2022', fontsize=20)"
      ]
    },
    {
      "cell_type": "markdown",
      "metadata": {
        "id": "8iRpwBq9vlOD"
      },
      "source": [
        "# Distribuição de acordo com a raça/cor"
      ]
    },
    {
      "cell_type": "code",
      "execution_count": 48,
      "metadata": {
        "colab": {
          "base_uri": "https://localhost:8080/"
        },
        "id": "8jHw07HfvlOD",
        "outputId": "81c3f32b-5fed-4bb1-93df-c9594c382c23"
      },
      "outputs": [
        {
          "data": {
            "text/plain": [
              "array([2, 1, 3, 5, 0, 4])"
            ]
          },
          "execution_count": 48,
          "metadata": {},
          "output_type": "execute_result"
        }
      ],
      "source": [
        "df_enem['TP_COR_RACA'].unique()\n",
        "#TP_COR_RACA"
      ]
    },
    {
      "cell_type": "markdown",
      "metadata": {
        "id": "96Hflu_QvlOE"
      },
      "source": [
        "**Cor/Raça**\n",
        "\n",
        "CÓDIGO | SIGNIFICADO\n",
        "-------|-------------\n",
        "0      | Não declarado\n",
        "1      | Branca\n",
        "2      | Preta\n",
        "3      | Parda\n",
        "4      | Amarela\n",
        "5      | Indígena\n"
      ]
    },
    {
      "cell_type": "code",
      "execution_count": 49,
      "metadata": {
        "colab": {
          "base_uri": "https://localhost:8080/"
        },
        "id": "r1GoV0HjvlOE",
        "outputId": "dcaf2a23-2860-4f03-defd-e28bfa343e35"
      },
      "outputs": [
        {
          "data": {
            "text/plain": [
              "3    1488844\n",
              "1    1428081\n",
              "2     408422\n",
              "4      66051\n",
              "0      64867\n",
              "5      19840\n",
              "Name: TP_COR_RACA, dtype: int64"
            ]
          },
          "execution_count": 49,
          "metadata": {},
          "output_type": "execute_result"
        }
      ],
      "source": [
        "df_enem['TP_COR_RACA'].value_counts()"
      ]
    },
    {
      "cell_type": "code",
      "execution_count": 50,
      "metadata": {
        "colab": {
          "base_uri": "https://localhost:8080/"
        },
        "id": "xJXrHN0dvlOE",
        "outputId": "1e4b2217-62df-4d71-cae9-6ad898f1634d"
      },
      "outputs": [
        {
          "data": {
            "text/plain": [
              "3    42.830812\n",
              "1    41.082792\n",
              "2    11.749415\n",
              "4     1.900144\n",
              "0     1.866083\n",
              "5     0.570754\n",
              "Name: TP_COR_RACA, dtype: float64"
            ]
          },
          "execution_count": 50,
          "metadata": {},
          "output_type": "execute_result"
        }
      ],
      "source": [
        "df_enem['TP_COR_RACA'].value_counts(normalize=True)*100"
      ]
    },
    {
      "cell_type": "code",
      "execution_count": 12,
      "metadata": {},
      "outputs": [
        {
          "data": {
            "text/plain": [
              "SG_UF_PROVA\n",
              "RJ    12\n",
              "MG     7\n",
              "CE     2\n",
              "SP     2\n",
              "PB     1\n",
              "DF     1\n",
              "AL     1\n",
              "BA     1\n",
              "AM     1\n",
              "RS     1\n",
              "PE     1\n",
              "PI     1\n",
              "GO     1\n",
              "Name: count, dtype: int64"
            ]
          },
          "execution_count": 12,
          "metadata": {},
          "output_type": "execute_result"
        }
      ],
      "source": [
        "qtd_nota_1000_uf = df_enem[df_enem['NU_NOTA_REDACAO'] == 1000]['SG_UF_PROVA'].value_counts()\n",
        "dict_qtd_nota_1000_uf = qtd_nota_1000_uf.to_dict() # convertendo para o tipo dicionário\n",
        "infos_ufs['SG_UF_PROVA'] = infos_ufs['SIGLA_UF'].map(dict_qtd_nota_1000_uf)"
      ]
    },
    {
      "cell_type": "markdown",
      "metadata": {
        "id": "rnMuaLkvhHFQ"
      },
      "source": [
        "# Mapa"
      ]
    },
    {
      "cell_type": "code",
      "execution_count": 4,
      "metadata": {
        "colab": {
          "base_uri": "https://localhost:8080/",
          "height": 651
        },
        "id": "Garie-L6hHFU",
        "outputId": "81fca432-1ba8-4baa-b1af-960bec7a6c29"
      },
      "outputs": [
        {
          "data": {
            "text/plain": [
              "(-76.24759047174989, -26.590499411250004, -35.7023289475499, 7.222992030550026)"
            ]
          },
          "execution_count": 4,
          "metadata": {},
          "output_type": "execute_result"
        },
        {
          "data": {
            "image/png": "[encoded data removed]",
            "text/plain": [
              "<Figure size 2000x1000 with 1 Axes>"
            ]
          },
          "metadata": {},
          "output_type": "display_data"
        }
      ],
      "source": [
        "#importando o shapefile do brasil\n",
        "infos_ufs = gpd.read_file('BR_UF_2022/BR_UF_2022.shp')\n",
        "#SG_UF_PROVA => Sigla da Unidade da Federação da escola\n",
        "esc_p_UF = df_enem[\"SG_UF_PROVA\"].value_counts() #quantidade por sigla\n",
        "dict_esc_p_UF = esc_p_UF.to_dict() # convertendo para o tipo dicionário\n",
        "\n",
        "#incluindo uma coluna de quantidade de participantes por sigla no df infos_ufs\n",
        "infos_ufs['SG_UF_PROVA'] = infos_ufs['SIGLA_UF'].map(dict_esc_p_UF)\n",
        "\n",
        "#mapa\n",
        "fig, ax = plt.subplots(1, figsize = (20,10))\n",
        "infos_ufs.plot(column = 'SG_UF_PROVA',\n",
        "               ax=ax,\n",
        "               cmap = 'YlOrRd',\n",
        "               linewidth=0.8,\n",
        "               figsize = (20,7),\n",
        "               legend = False,\n",
        "               edgecolor = 'black')\n",
        "plt.title(\"Total de Participantes por Estado\", fontsize = 18)\n",
        "infos_ufs.apply(lambda x: ax.annotate(text=x.SIGLA_UF, xy=x.geometry.centroid.coords[0], ha='center', color = \"black\"), axis=1)\n",
        "infos_ufs.apply(lambda x: ax.annotate(text=x.SG_UF_PROVA, xy=x.geometry.centroid.coords[0], xytext=(0,-12), textcoords='offset pixels', ha='center', color = \"black\", weight='semibold'), axis=1)\n",
        "ax.axis('off')"
      ]
    },
    {
      "cell_type": "code",
      "execution_count": 39,
      "metadata": {},
      "outputs": [
        {
          "data": {
            "text/plain": [
              "(-76.24759047174989, -26.590499411250004, -35.7023289475499, 7.222992030550026)"
            ]
          },
          "execution_count": 39,
          "metadata": {},
          "output_type": "execute_result"
        },
        {
          "data": {
            "image/png": "[encoded data removed]",
            "text/plain": [
              "<Figure size 2000x1000 with 1 Axes>"
            ]
          },
          "metadata": {},
          "output_type": "display_data"
        }
      ],
      "source": [
        "qtd_nota_1000_uf = df_enem[df_enem['NU_NOTA_REDACAO'] == 1000]['SG_UF_PROVA'].value_counts()\n",
        "dict_qtd_nota_1000_uf = qtd_nota_1000_uf.to_dict() # convertendo para o tipo dicionário\n",
        "infos_ufs['Redacao_1000'] = infos_ufs['SIGLA_UF'].map(dict_qtd_nota_1000_uf)\n",
        "\n",
        "infos_ufs['Redacao_1000'] = infos_ufs['Redacao_1000'].fillna(0) # preenchendo com zero os estados sem redações nota 1000\n",
        "\n",
        "#mapa\n",
        "fig, ax = plt.subplots(1, figsize = (20,10))\n",
        "infos_ufs.plot(column = 'Redacao_1000',\n",
        "               ax=ax,\n",
        "               cmap = 'Wistia',\n",
        "               linewidth=0.8,\n",
        "               figsize = (20,7),\n",
        "               legend = False,\n",
        "               edgecolor = 'darkgray')\n",
        "plt.title(\"Redação nota 1000 por Estado\", fontsize = 18)\n",
        "infos_ufs.apply(lambda x: ax.annotate(text=x.SIGLA_UF, xy=x.geometry.centroid.coords[0], ha='center', color = \"black\"), axis=1)\n",
        "infos_ufs.apply(lambda x: ax.annotate(text=x.Redacao_1000, xy=x.geometry.centroid.coords[0], xytext=(0,-12), textcoords='offset pixels', ha='center', color = \"black\", weight='semibold'), axis=1)\n",
        "ax.axis('off')"
      ]
    },
    {
      "cell_type": "markdown",
      "metadata": {
        "id": "_2jgeYK91m0z"
      },
      "source": [
        "### Para avaliarmos o comportamento da variável RENDA vamos construir uma tabela de frequências considerando as seguintes classe\n",
        "\n",
        "CÓDIGO | SIGNIFICADO\n",
        "-------|-------------\n",
        "A\t| Nenhuma Renda\n",
        "B\t| Até 1212,00\n",
        "C\t| De 1212,01 até 1818,00\n",
        "D\t| De 1818,01 até 2424,00\n",
        "E\t| De 2424,01 até 3030,00\n",
        "F\t| De 3030,01 até 3636,00\n",
        "G\t| De 3636,01 até 4848,00\n",
        "H\t| De 4848,01 até 6060,00\n",
        "I\t| De 6060,01 até 7272,00\n",
        "J\t| De 7272,01 até 8484,00\n",
        "K\t| De 8484,01 até 9696,00\n",
        "L\t| De 9696,01 até 10908,00\n",
        "M\t| De 10908,01 até 12120,00\n",
        "N\t| De 12120,01 até 14544,00\n",
        "O\t| De 14544,01 até 18180,00\n",
        "P\t| De 18180,01 até 24240,00\n",
        "Q\t| Acima de 24240,00\n"
      ]
    },
    {
      "cell_type": "code",
      "execution_count": 6,
      "metadata": {
        "colab": {
          "base_uri": "https://localhost:8080/"
        },
        "id": "kB5fYFlR1DXD",
        "outputId": "2e5701d8-04f1-41be-e4a7-5744388e9c3f"
      },
      "outputs": [
        {
          "data": {
            "text/plain": [
              "array(['B', 'Q', 'A', 'C', 'D', 'E', 'G', 'F', 'H', 'I', 'K', 'L', 'J',\n",
              "       'P', 'O', 'N', 'M'], dtype=object)"
            ]
          },
          "execution_count": 6,
          "metadata": {},
          "output_type": "execute_result"
        }
      ],
      "source": [
        "df_enem['RENDA_MENSAL'].unique()"
      ]
    },
    {
      "cell_type": "code",
      "execution_count": 7,
      "metadata": {
        "id": "ygaGmiL_8NIO"
      },
      "outputs": [],
      "source": [
        "dic_renda = {'A':0, 'B':1212, 'C':1818, 'D':2424, 'E':3030, 'F':3636, 'G':4848, 'H':6060,\n",
        "              'I':7272, 'J':8484, 'K':9696, 'L':10908, 'M':12120, 'N':14544, 'O':18180,\n",
        "              'P':24240, 'Q':24241}\n"
      ]
    },
    {
      "cell_type": "code",
      "execution_count": 8,
      "metadata": {
        "id": "ws7poF-E_dBX"
      },
      "outputs": [],
      "source": [
        "df_enem['RENDA_MENSAL'] = df_enem['RENDA_MENSAL'].replace(dic_renda)"
      ]
    },
    {
      "cell_type": "code",
      "execution_count": 9,
      "metadata": {
        "colab": {
          "base_uri": "https://localhost:8080/"
        },
        "id": "K4UlnevnGWdY",
        "outputId": "41b24fc6-6527-45f4-e892-05c488bef54f"
      },
      "outputs": [
        {
          "data": {
            "text/plain": [
              "array([ 1212, 24241,     0,  1818,  2424,  3030,  4848,  3636,  6060,\n",
              "        7272,  9696, 10908,  8484, 24240, 18180, 14544, 12120])"
            ]
          },
          "execution_count": 9,
          "metadata": {},
          "output_type": "execute_result"
        }
      ],
      "source": [
        "df_enem['RENDA_MENSAL'].unique()"
      ]
    },
    {
      "cell_type": "code",
      "execution_count": 14,
      "metadata": {
        "id": "gtqX6trCEslk"
      },
      "outputs": [],
      "source": [
        "frequencia_renda = pd.value_counts(df_enem['RENDA_MENSAL'])\n",
        "percentual_renda = frequencia = pd.value_counts(df_enem['RENDA_MENSAL'],normalize = True)*100\n",
        "percentual_renda = percentual_renda.round(2)"
      ]
    },
    {
      "cell_type": "markdown",
      "metadata": {
        "id": "tlp8_QHqFxsf"
      },
      "source": [
        "Juntar as colunas de frequência e percentuais e ordenar as linhas de acordo com os labels das classes"
      ]
    },
    {
      "cell_type": "code",
      "execution_count": 15,
      "metadata": {
        "colab": {
          "base_uri": "https://localhost:8080/",
          "height": 582
        },
        "id": "M34td3S6FxcP",
        "outputId": "6699cc27-089e-449c-c17a-d25c5505d111"
      },
      "outputs": [
        {
          "data": {
            "text/html": [
              "\n",
              "  <div id=\"df-e1845bf8-bbdc-4326-a744-aae0a76d4ca2\" class=\"colab-df-container\">\n",
              "    <div>\n",
              "<style scoped>\n",
              "    .dataframe tbody tr th:only-of-type {\n",
              "        vertical-align: middle;\n",
              "    }\n",
              "\n",
              "    .dataframe tbody tr th {\n",
              "        vertical-align: top;\n",
              "    }\n",
              "\n",
              "    .dataframe thead th {\n",
              "        text-align: right;\n",
              "    }\n",
              "</style>\n",
              "<table border=\"1\" class=\"dataframe\">\n",
              "  <thead>\n",
              "    <tr style=\"text-align: right;\">\n",
              "      <th></th>\n",
              "      <th>Frequência</th>\n",
              "      <th>Porcentagem (%)</th>\n",
              "    </tr>\n",
              "  </thead>\n",
              "  <tbody>\n",
              "    <tr>\n",
              "      <th>0</th>\n",
              "      <td>204475</td>\n",
              "      <td>5.88</td>\n",
              "    </tr>\n",
              "    <tr>\n",
              "      <th>1212</th>\n",
              "      <td>1022869</td>\n",
              "      <td>29.43</td>\n",
              "    </tr>\n",
              "    <tr>\n",
              "      <th>1818</th>\n",
              "      <td>584278</td>\n",
              "      <td>16.81</td>\n",
              "    </tr>\n",
              "    <tr>\n",
              "      <th>2424</th>\n",
              "      <td>414266</td>\n",
              "      <td>11.92</td>\n",
              "    </tr>\n",
              "    <tr>\n",
              "      <th>3030</th>\n",
              "      <td>276704</td>\n",
              "      <td>7.96</td>\n",
              "    </tr>\n",
              "    <tr>\n",
              "      <th>3636</th>\n",
              "      <td>158091</td>\n",
              "      <td>4.55</td>\n",
              "    </tr>\n",
              "    <tr>\n",
              "      <th>4848</th>\n",
              "      <td>194319</td>\n",
              "      <td>5.59</td>\n",
              "    </tr>\n",
              "    <tr>\n",
              "      <th>6060</th>\n",
              "      <td>188751</td>\n",
              "      <td>5.43</td>\n",
              "    </tr>\n",
              "    <tr>\n",
              "      <th>7272</th>\n",
              "      <td>78916</td>\n",
              "      <td>2.27</td>\n",
              "    </tr>\n",
              "    <tr>\n",
              "      <th>8484</th>\n",
              "      <td>54984</td>\n",
              "      <td>1.58</td>\n",
              "    </tr>\n",
              "    <tr>\n",
              "      <th>9696</th>\n",
              "      <td>38997</td>\n",
              "      <td>1.12</td>\n",
              "    </tr>\n",
              "    <tr>\n",
              "      <th>10908</th>\n",
              "      <td>51295</td>\n",
              "      <td>1.48</td>\n",
              "    </tr>\n",
              "    <tr>\n",
              "      <th>12120</th>\n",
              "      <td>48530</td>\n",
              "      <td>1.40</td>\n",
              "    </tr>\n",
              "    <tr>\n",
              "      <th>14544</th>\n",
              "      <td>34824</td>\n",
              "      <td>1.00</td>\n",
              "    </tr>\n",
              "    <tr>\n",
              "      <th>18180</th>\n",
              "      <td>39034</td>\n",
              "      <td>1.12</td>\n",
              "    </tr>\n",
              "    <tr>\n",
              "      <th>24240</th>\n",
              "      <td>36032</td>\n",
              "      <td>1.04</td>\n",
              "    </tr>\n",
              "    <tr>\n",
              "      <th>24241</th>\n",
              "      <td>49740</td>\n",
              "      <td>1.43</td>\n",
              "    </tr>\n",
              "  </tbody>\n",
              "</table>\n",
              "</div>\n",
              "    <div class=\"colab-df-buttons\">\n",
              "\n",
              "  <div class=\"colab-df-container\">\n",
              "    <button class=\"colab-df-convert\" onclick=\"convertToInteractive('df-e1845bf8-bbdc-4326-a744-aae0a76d4ca2')\"\n",
              "            title=\"Convert this dataframe to an interactive table.\"\n",
              "            style=\"display:none;\">\n",
              "\n",
              "  <svg xmlns=\"http://www.w3.org/2000/svg\" height=\"24px\" viewBox=\"0 -960 960 960\">\n",
              "    <path d=\"M120-120v-720h720v720H120Zm60-500h600v-160H180v160Zm220 220h160v-160H400v160Zm0 220h160v-160H400v160ZM180-400h160v-160H180v160Zm440 0h160v-160H620v160ZM180-180h160v-160H180v160Zm440 0h160v-160H620v160Z\"/>\n",
              "  </svg>\n",
              "    </button>\n",
              "\n",
              "  <style>\n",
              "    .colab-df-container {\n",
              "      display:flex;\n",
              "      gap: 12px;\n",
              "    }\n",
              "\n",
              "    .colab-df-convert {\n",
              "      background-color: #E8F0FE;\n",
              "      border: none;\n",
              "      border-radius: 50%;\n",
              "      cursor: pointer;\n",
              "      display: none;\n",
              "      fill: #1967D2;\n",
              "      height: 32px;\n",
              "      padding: 0 0 0 0;\n",
              "      width: 32px;\n",
              "    }\n",
              "\n",
              "    .colab-df-convert:hover {\n",
              "      background-color: #E2EBFA;\n",
              "      box-shadow: 0px 1px 2px rgba(60, 64, 67, 0.3), 0px 1px 3px 1px rgba(60, 64, 67, 0.15);\n",
              "      fill: #174EA6;\n",
              "    }\n",
              "\n",
              "    .colab-df-buttons div {\n",
              "      margin-bottom: 4px;\n",
              "    }\n",
              "\n",
              "    [theme=dark] .colab-df-convert {\n",
              "      background-color: #3B4455;\n",
              "      fill: #D2E3FC;\n",
              "    }\n",
              "\n",
              "    [theme=dark] .colab-df-convert:hover {\n",
              "      background-color: #434B5C;\n",
              "      box-shadow: 0px 1px 3px 1px rgba(0, 0, 0, 0.15);\n",
              "      filter: drop-shadow(0px 1px 2px rgba(0, 0, 0, 0.3));\n",
              "      fill: #FFFFFF;\n",
              "    }\n",
              "  </style>\n",
              "\n",
              "    <script>\n",
              "      const buttonEl =\n",
              "        document.querySelector('#df-e1845bf8-bbdc-4326-a744-aae0a76d4ca2 button.colab-df-convert');\n",
              "      buttonEl.style.display =\n",
              "        google.colab.kernel.accessAllowed ? 'block' : 'none';\n",
              "\n",
              "      async function convertToInteractive(key) {\n",
              "        const element = document.querySelector('#df-e1845bf8-bbdc-4326-a744-aae0a76d4ca2');\n",
              "        const dataTable =\n",
              "          await google.colab.kernel.invokeFunction('convertToInteractive',\n",
              "                                                    [key], {});\n",
              "        if (!dataTable) return;\n",
              "\n",
              "        const docLinkHtml = 'Like what you see? Visit the ' +\n",
              "          '<a target=\"_blank\" href=https://colab.research.google.com/notebooks/data_table.ipynb>data table notebook</a>'\n",
              "          + ' to learn more about interactive tables.';\n",
              "        element.innerHTML = '';\n",
              "        dataTable['output_type'] = 'display_data';\n",
              "        await google.colab.output.renderOutput(dataTable, element);\n",
              "        const docLink = document.createElement('div');\n",
              "        docLink.innerHTML = docLinkHtml;\n",
              "        element.appendChild(docLink);\n",
              "      }\n",
              "    </script>\n",
              "  </div>\n",
              "\n",
              "\n",
              "<div id=\"df-7900ead6-c63c-4c7f-89ca-390b3f6f81b4\">\n",
              "  <button class=\"colab-df-quickchart\" onclick=\"quickchart('df-7900ead6-c63c-4c7f-89ca-390b3f6f81b4')\"\n",
              "            title=\"Suggest charts\"\n",
              "            style=\"display:none;\">\n",
              "\n",
              "<svg xmlns=\"http://www.w3.org/2000/svg\" height=\"24px\"viewBox=\"0 0 24 24\"\n",
              "     width=\"24px\">\n",
              "    <g>\n",
              "        <path d=\"M19 3H5c-1.1 0-2 .9-2 2v14c0 1.1.9 2 2 2h14c1.1 0 2-.9 2-2V5c0-1.1-.9-2-2-2zM9 17H7v-7h2v7zm4 0h-2V7h2v10zm4 0h-2v-4h2v4z\"/>\n",
              "    </g>\n",
              "</svg>\n",
              "  </button>\n",
              "\n",
              "<style>\n",
              "  .colab-df-quickchart {\n",
              "      --bg-color: #E8F0FE;\n",
              "      --fill-color: #1967D2;\n",
              "      --hover-bg-color: #E2EBFA;\n",
              "      --hover-fill-color: #174EA6;\n",
              "      --disabled-fill-color: #AAA;\n",
              "      --disabled-bg-color: #DDD;\n",
              "  }\n",
              "\n",
              "  [theme=dark] .colab-df-quickchart {\n",
              "      --bg-color: #3B4455;\n",
              "      --fill-color: #D2E3FC;\n",
              "      --hover-bg-color: #434B5C;\n",
              "      --hover-fill-color: #FFFFFF;\n",
              "      --disabled-bg-color: #3B4455;\n",
              "      --disabled-fill-color: #666;\n",
              "  }\n",
              "\n",
              "  .colab-df-quickchart {\n",
              "    background-color: var(--bg-color);\n",
              "    border: none;\n",
              "    border-radius: 50%;\n",
              "    cursor: pointer;\n",
              "    display: none;\n",
              "    fill: var(--fill-color);\n",
              "    height: 32px;\n",
              "    padding: 0;\n",
              "    width: 32px;\n",
              "  }\n",
              "\n",
              "  .colab-df-quickchart:hover {\n",
              "    background-color: var(--hover-bg-color);\n",
              "    box-shadow: 0 1px 2px rgba(60, 64, 67, 0.3), 0 1px 3px 1px rgba(60, 64, 67, 0.15);\n",
              "    fill: var(--button-hover-fill-color);\n",
              "  }\n",
              "\n",
              "  .colab-df-quickchart-complete:disabled,\n",
              "  .colab-df-quickchart-complete:disabled:hover {\n",
              "    background-color: var(--disabled-bg-color);\n",
              "    fill: var(--disabled-fill-color);\n",
              "    box-shadow: none;\n",
              "  }\n",
              "\n",
              "  .colab-df-spinner {\n",
              "    border: 2px solid var(--fill-color);\n",
              "    border-color: transparent;\n",
              "    border-bottom-color: var(--fill-color);\n",
              "    animation:\n",
              "      spin 1s steps(1) infinite;\n",
              "  }\n",
              "\n",
              "  @keyframes spin {\n",
              "    0% {\n",
              "      border-color: transparent;\n",
              "      border-bottom-color: var(--fill-color);\n",
              "      border-left-color: var(--fill-color);\n",
              "    }\n",
              "    20% {\n",
              "      border-color: transparent;\n",
              "      border-left-color: var(--fill-color);\n",
              "      border-top-color: var(--fill-color);\n",
              "    }\n",
              "    30% {\n",
              "      border-color: transparent;\n",
              "      border-left-color: var(--fill-color);\n",
              "      border-top-color: var(--fill-color);\n",
              "      border-right-color: var(--fill-color);\n",
              "    }\n",
              "    40% {\n",
              "      border-color: transparent;\n",
              "      border-right-color: var(--fill-color);\n",
              "      border-top-color: var(--fill-color);\n",
              "    }\n",
              "    60% {\n",
              "      border-color: transparent;\n",
              "      border-right-color: var(--fill-color);\n",
              "    }\n",
              "    80% {\n",
              "      border-color: transparent;\n",
              "      border-right-color: var(--fill-color);\n",
              "      border-bottom-color: var(--fill-color);\n",
              "    }\n",
              "    90% {\n",
              "      border-color: transparent;\n",
              "      border-bottom-color: var(--fill-color);\n",
              "    }\n",
              "  }\n",
              "</style>\n",
              "\n",
              "  <script>\n",
              "    async function quickchart(key) {\n",
              "      const quickchartButtonEl =\n",
              "        document.querySelector('#' + key + ' button');\n",
              "      quickchartButtonEl.disabled = true;  // To prevent multiple clicks.\n",
              "      quickchartButtonEl.classList.add('colab-df-spinner');\n",
              "      try {\n",
              "        const charts = await google.colab.kernel.invokeFunction(\n",
              "            'suggestCharts', [key], {});\n",
              "      } catch (error) {\n",
              "        console.error('Error during call to suggestCharts:', error);\n",
              "      }\n",
              "      quickchartButtonEl.classList.remove('colab-df-spinner');\n",
              "      quickchartButtonEl.classList.add('colab-df-quickchart-complete');\n",
              "    }\n",
              "    (() => {\n",
              "      let quickchartButtonEl =\n",
              "        document.querySelector('#df-7900ead6-c63c-4c7f-89ca-390b3f6f81b4 button');\n",
              "      quickchartButtonEl.style.display =\n",
              "        google.colab.kernel.accessAllowed ? 'block' : 'none';\n",
              "    })();\n",
              "  </script>\n",
              "</div>\n",
              "\n",
              "  <div id=\"id_c4d0096d-d300-459b-a116-3d791303c0f2\">\n",
              "    <style>\n",
              "      .colab-df-generate {\n",
              "        background-color: #E8F0FE;\n",
              "        border: none;\n",
              "        border-radius: 50%;\n",
              "        cursor: pointer;\n",
              "        display: none;\n",
              "        fill: #1967D2;\n",
              "        height: 32px;\n",
              "        padding: 0 0 0 0;\n",
              "        width: 32px;\n",
              "      }\n",
              "\n",
              "      .colab-df-generate:hover {\n",
              "        background-color: #E2EBFA;\n",
              "        box-shadow: 0px 1px 2px rgba(60, 64, 67, 0.3), 0px 1px 3px 1px rgba(60, 64, 67, 0.15);\n",
              "        fill: #174EA6;\n",
              "      }\n",
              "\n",
              "      [theme=dark] .colab-df-generate {\n",
              "        background-color: #3B4455;\n",
              "        fill: #D2E3FC;\n",
              "      }\n",
              "\n",
              "      [theme=dark] .colab-df-generate:hover {\n",
              "        background-color: #434B5C;\n",
              "        box-shadow: 0px 1px 3px 1px rgba(0, 0, 0, 0.15);\n",
              "        filter: drop-shadow(0px 1px 2px rgba(0, 0, 0, 0.3));\n",
              "        fill: #FFFFFF;\n",
              "      }\n",
              "    </style>\n",
              "    <button class=\"colab-df-generate\" onclick=\"generateWithVariable('dist_freq_quantitativas_personalizadas')\"\n",
              "            title=\"Generate code using this dataframe.\"\n",
              "            style=\"display:none;\">\n",
              "\n",
              "  <svg xmlns=\"http://www.w3.org/2000/svg\" height=\"24px\"viewBox=\"0 0 24 24\"\n",
              "       width=\"24px\">\n",
              "    <path d=\"M7,19H8.4L18.45,9,17,7.55,7,17.6ZM5,21V16.75L18.45,3.32a2,2,0,0,1,2.83,0l1.4,1.43a1.91,1.91,0,0,1,.58,1.4,1.91,1.91,0,0,1-.58,1.4L9.25,21ZM18.45,9,17,7.55Zm-12,3A5.31,5.31,0,0,0,4.9,8.1,5.31,5.31,0,0,0,1,6.5,5.31,5.31,0,0,0,4.9,4.9,5.31,5.31,0,0,0,6.5,1,5.31,5.31,0,0,0,8.1,4.9,5.31,5.31,0,0,0,12,6.5,5.46,5.46,0,0,0,6.5,12Z\"/>\n",
              "  </svg>\n",
              "    </button>\n",
              "    <script>\n",
              "      (() => {\n",
              "      const buttonEl =\n",
              "        document.querySelector('#id_c4d0096d-d300-459b-a116-3d791303c0f2 button.colab-df-generate');\n",
              "      buttonEl.style.display =\n",
              "        google.colab.kernel.accessAllowed ? 'block' : 'none';\n",
              "\n",
              "      buttonEl.onclick = () => {\n",
              "        google.colab.notebook.generateWithVariable('dist_freq_quantitativas_personalizadas');\n",
              "      }\n",
              "      })();\n",
              "    </script>\n",
              "  </div>\n",
              "\n",
              "    </div>\n",
              "  </div>\n"
            ],
            "text/plain": [
              "       Frequência  Porcentagem (%)\n",
              "0          204475             5.88\n",
              "1212      1022869            29.43\n",
              "1818       584278            16.81\n",
              "2424       414266            11.92\n",
              "3030       276704             7.96\n",
              "3636       158091             4.55\n",
              "4848       194319             5.59\n",
              "6060       188751             5.43\n",
              "7272        78916             2.27\n",
              "8484        54984             1.58\n",
              "9696        38997             1.12\n",
              "10908       51295             1.48\n",
              "12120       48530             1.40\n",
              "14544       34824             1.00\n",
              "18180       39034             1.12\n",
              "24240       36032             1.04\n",
              "24241       49740             1.43"
            ]
          },
          "execution_count": 15,
          "metadata": {},
          "output_type": "execute_result"
        }
      ],
      "source": [
        "dist_freq_quantitativas_personalizadas = pd.DataFrame(\n",
        "    {'Frequência': frequencia_renda, 'Porcentagem (%)': percentual_renda})\n",
        "dist_freq_quantitativas_personalizadas.sort_index(ascending = True,inplace = True)\n",
        "dist_freq_quantitativas_personalizadas"
      ]
    },
    {
      "cell_type": "code",
      "execution_count": 19,
      "metadata": {
        "id": "wp0LB9UKHVRL"
      },
      "outputs": [],
      "source": [
        "novos_indices = ['Superior R$ 24240,00','Até R$ 24240,00','Até R$ 18180,00',\n",
        "                'Até R$ 14544,00','Até R$ 12120,00','Até R$ 10908,00','Até R$ 9696,00',\n",
        "                'Até R$ 8484,00','Até R$ 7272,00','Até R$ 6060,00','Até R$ 4848,00',\n",
        "                'Até R$ 3636,00','Até R$ 3030,00','Até R$ 2424,00','Até R$ 1818,00',\n",
        "                'Até R$ 1212,00','Sem Renda']\n",
        "novos_indices.reverse()"
      ]
    },
    {
      "cell_type": "code",
      "execution_count": 20,
      "metadata": {
        "colab": {
          "base_uri": "https://localhost:8080/",
          "height": 582
        },
        "id": "8nWmqTKbf5Or",
        "outputId": "52c40eb9-f8e5-4448-da1b-ceda3ebce9c1"
      },
      "outputs": [
        {
          "data": {
            "text/html": [
              "\n",
              "  <div id=\"df-a48e91ab-1672-42b2-bfcd-d82a7825c349\" class=\"colab-df-container\">\n",
              "    <div>\n",
              "<style scoped>\n",
              "    .dataframe tbody tr th:only-of-type {\n",
              "        vertical-align: middle;\n",
              "    }\n",
              "\n",
              "    .dataframe tbody tr th {\n",
              "        vertical-align: top;\n",
              "    }\n",
              "\n",
              "    .dataframe thead th {\n",
              "        text-align: right;\n",
              "    }\n",
              "</style>\n",
              "<table border=\"1\" class=\"dataframe\">\n",
              "  <thead>\n",
              "    <tr style=\"text-align: right;\">\n",
              "      <th></th>\n",
              "      <th>Frequência</th>\n",
              "      <th>Porcentagem (%)</th>\n",
              "    </tr>\n",
              "  </thead>\n",
              "  <tbody>\n",
              "    <tr>\n",
              "      <th>Sem Renda</th>\n",
              "      <td>204475</td>\n",
              "      <td>5.88</td>\n",
              "    </tr>\n",
              "    <tr>\n",
              "      <th>Até R$ 1212,00</th>\n",
              "      <td>1022869</td>\n",
              "      <td>29.43</td>\n",
              "    </tr>\n",
              "    <tr>\n",
              "      <th>Até R$ 1818,00</th>\n",
              "      <td>584278</td>\n",
              "      <td>16.81</td>\n",
              "    </tr>\n",
              "    <tr>\n",
              "      <th>Até R$ 2424,00</th>\n",
              "      <td>414266</td>\n",
              "      <td>11.92</td>\n",
              "    </tr>\n",
              "    <tr>\n",
              "      <th>Até R$ 3030,00</th>\n",
              "      <td>276704</td>\n",
              "      <td>7.96</td>\n",
              "    </tr>\n",
              "    <tr>\n",
              "      <th>Até R$ 3636,00</th>\n",
              "      <td>158091</td>\n",
              "      <td>4.55</td>\n",
              "    </tr>\n",
              "    <tr>\n",
              "      <th>Até R$ 4848,00</th>\n",
              "      <td>194319</td>\n",
              "      <td>5.59</td>\n",
              "    </tr>\n",
              "    <tr>\n",
              "      <th>Até R$ 6060,00</th>\n",
              "      <td>188751</td>\n",
              "      <td>5.43</td>\n",
              "    </tr>\n",
              "    <tr>\n",
              "      <th>Até R$ 7272,00</th>\n",
              "      <td>78916</td>\n",
              "      <td>2.27</td>\n",
              "    </tr>\n",
              "    <tr>\n",
              "      <th>Até R$ 8484,00</th>\n",
              "      <td>54984</td>\n",
              "      <td>1.58</td>\n",
              "    </tr>\n",
              "    <tr>\n",
              "      <th>Até R$ 9696,00</th>\n",
              "      <td>38997</td>\n",
              "      <td>1.12</td>\n",
              "    </tr>\n",
              "    <tr>\n",
              "      <th>Até R$ 10908,00</th>\n",
              "      <td>51295</td>\n",
              "      <td>1.48</td>\n",
              "    </tr>\n",
              "    <tr>\n",
              "      <th>Até R$ 12120,00</th>\n",
              "      <td>48530</td>\n",
              "      <td>1.40</td>\n",
              "    </tr>\n",
              "    <tr>\n",
              "      <th>Até R$ 14544,00</th>\n",
              "      <td>34824</td>\n",
              "      <td>1.00</td>\n",
              "    </tr>\n",
              "    <tr>\n",
              "      <th>Até R$ 18180,00</th>\n",
              "      <td>39034</td>\n",
              "      <td>1.12</td>\n",
              "    </tr>\n",
              "    <tr>\n",
              "      <th>Até R$ 24240,00</th>\n",
              "      <td>36032</td>\n",
              "      <td>1.04</td>\n",
              "    </tr>\n",
              "    <tr>\n",
              "      <th>Superior R$ 24240,00</th>\n",
              "      <td>49740</td>\n",
              "      <td>1.43</td>\n",
              "    </tr>\n",
              "  </tbody>\n",
              "</table>\n",
              "</div>\n",
              "    <div class=\"colab-df-buttons\">\n",
              "\n",
              "  <div class=\"colab-df-container\">\n",
              "    <button class=\"colab-df-convert\" onclick=\"convertToInteractive('df-a48e91ab-1672-42b2-bfcd-d82a7825c349')\"\n",
              "            title=\"Convert this dataframe to an interactive table.\"\n",
              "            style=\"display:none;\">\n",
              "\n",
              "  <svg xmlns=\"http://www.w3.org/2000/svg\" height=\"24px\" viewBox=\"0 -960 960 960\">\n",
              "    <path d=\"M120-120v-720h720v720H120Zm60-500h600v-160H180v160Zm220 220h160v-160H400v160Zm0 220h160v-160H400v160ZM180-400h160v-160H180v160Zm440 0h160v-160H620v160ZM180-180h160v-160H180v160Zm440 0h160v-160H620v160Z\"/>\n",
              "  </svg>\n",
              "    </button>\n",
              "\n",
              "  <style>\n",
              "    .colab-df-container {\n",
              "      display:flex;\n",
              "      gap: 12px;\n",
              "    }\n",
              "\n",
              "    .colab-df-convert {\n",
              "      background-color: #E8F0FE;\n",
              "      border: none;\n",
              "      border-radius: 50%;\n",
              "      cursor: pointer;\n",
              "      display: none;\n",
              "      fill: #1967D2;\n",
              "      height: 32px;\n",
              "      padding: 0 0 0 0;\n",
              "      width: 32px;\n",
              "    }\n",
              "\n",
              "    .colab-df-convert:hover {\n",
              "      background-color: #E2EBFA;\n",
              "      box-shadow: 0px 1px 2px rgba(60, 64, 67, 0.3), 0px 1px 3px 1px rgba(60, 64, 67, 0.15);\n",
              "      fill: #174EA6;\n",
              "    }\n",
              "\n",
              "    .colab-df-buttons div {\n",
              "      margin-bottom: 4px;\n",
              "    }\n",
              "\n",
              "    [theme=dark] .colab-df-convert {\n",
              "      background-color: #3B4455;\n",
              "      fill: #D2E3FC;\n",
              "    }\n",
              "\n",
              "    [theme=dark] .colab-df-convert:hover {\n",
              "      background-color: #434B5C;\n",
              "      box-shadow: 0px 1px 3px 1px rgba(0, 0, 0, 0.15);\n",
              "      filter: drop-shadow(0px 1px 2px rgba(0, 0, 0, 0.3));\n",
              "      fill: #FFFFFF;\n",
              "    }\n",
              "  </style>\n",
              "\n",
              "    <script>\n",
              "      const buttonEl =\n",
              "        document.querySelector('#df-a48e91ab-1672-42b2-bfcd-d82a7825c349 button.colab-df-convert');\n",
              "      buttonEl.style.display =\n",
              "        google.colab.kernel.accessAllowed ? 'block' : 'none';\n",
              "\n",
              "      async function convertToInteractive(key) {\n",
              "        const element = document.querySelector('#df-a48e91ab-1672-42b2-bfcd-d82a7825c349');\n",
              "        const dataTable =\n",
              "          await google.colab.kernel.invokeFunction('convertToInteractive',\n",
              "                                                    [key], {});\n",
              "        if (!dataTable) return;\n",
              "\n",
              "        const docLinkHtml = 'Like what you see? Visit the ' +\n",
              "          '<a target=\"_blank\" href=https://colab.research.google.com/notebooks/data_table.ipynb>data table notebook</a>'\n",
              "          + ' to learn more about interactive tables.';\n",
              "        element.innerHTML = '';\n",
              "        dataTable['output_type'] = 'display_data';\n",
              "        await google.colab.output.renderOutput(dataTable, element);\n",
              "        const docLink = document.createElement('div');\n",
              "        docLink.innerHTML = docLinkHtml;\n",
              "        element.appendChild(docLink);\n",
              "      }\n",
              "    </script>\n",
              "  </div>\n",
              "\n",
              "\n",
              "<div id=\"df-e9c34581-7613-49a4-894d-434314523a5c\">\n",
              "  <button class=\"colab-df-quickchart\" onclick=\"quickchart('df-e9c34581-7613-49a4-894d-434314523a5c')\"\n",
              "            title=\"Suggest charts\"\n",
              "            style=\"display:none;\">\n",
              "\n",
              "<svg xmlns=\"http://www.w3.org/2000/svg\" height=\"24px\"viewBox=\"0 0 24 24\"\n",
              "     width=\"24px\">\n",
              "    <g>\n",
              "        <path d=\"M19 3H5c-1.1 0-2 .9-2 2v14c0 1.1.9 2 2 2h14c1.1 0 2-.9 2-2V5c0-1.1-.9-2-2-2zM9 17H7v-7h2v7zm4 0h-2V7h2v10zm4 0h-2v-4h2v4z\"/>\n",
              "    </g>\n",
              "</svg>\n",
              "  </button>\n",
              "\n",
              "<style>\n",
              "  .colab-df-quickchart {\n",
              "      --bg-color: #E8F0FE;\n",
              "      --fill-color: #1967D2;\n",
              "      --hover-bg-color: #E2EBFA;\n",
              "      --hover-fill-color: #174EA6;\n",
              "      --disabled-fill-color: #AAA;\n",
              "      --disabled-bg-color: #DDD;\n",
              "  }\n",
              "\n",
              "  [theme=dark] .colab-df-quickchart {\n",
              "      --bg-color: #3B4455;\n",
              "      --fill-color: #D2E3FC;\n",
              "      --hover-bg-color: #434B5C;\n",
              "      --hover-fill-color: #FFFFFF;\n",
              "      --disabled-bg-color: #3B4455;\n",
              "      --disabled-fill-color: #666;\n",
              "  }\n",
              "\n",
              "  .colab-df-quickchart {\n",
              "    background-color: var(--bg-color);\n",
              "    border: none;\n",
              "    border-radius: 50%;\n",
              "    cursor: pointer;\n",
              "    display: none;\n",
              "    fill: var(--fill-color);\n",
              "    height: 32px;\n",
              "    padding: 0;\n",
              "    width: 32px;\n",
              "  }\n",
              "\n",
              "  .colab-df-quickchart:hover {\n",
              "    background-color: var(--hover-bg-color);\n",
              "    box-shadow: 0 1px 2px rgba(60, 64, 67, 0.3), 0 1px 3px 1px rgba(60, 64, 67, 0.15);\n",
              "    fill: var(--button-hover-fill-color);\n",
              "  }\n",
              "\n",
              "  .colab-df-quickchart-complete:disabled,\n",
              "  .colab-df-quickchart-complete:disabled:hover {\n",
              "    background-color: var(--disabled-bg-color);\n",
              "    fill: var(--disabled-fill-color);\n",
              "    box-shadow: none;\n",
              "  }\n",
              "\n",
              "  .colab-df-spinner {\n",
              "    border: 2px solid var(--fill-color);\n",
              "    border-color: transparent;\n",
              "    border-bottom-color: var(--fill-color);\n",
              "    animation:\n",
              "      spin 1s steps(1) infinite;\n",
              "  }\n",
              "\n",
              "  @keyframes spin {\n",
              "    0% {\n",
              "      border-color: transparent;\n",
              "      border-bottom-color: var(--fill-color);\n",
              "      border-left-color: var(--fill-color);\n",
              "    }\n",
              "    20% {\n",
              "      border-color: transparent;\n",
              "      border-left-color: var(--fill-color);\n",
              "      border-top-color: var(--fill-color);\n",
              "    }\n",
              "    30% {\n",
              "      border-color: transparent;\n",
              "      border-left-color: var(--fill-color);\n",
              "      border-top-color: var(--fill-color);\n",
              "      border-right-color: var(--fill-color);\n",
              "    }\n",
              "    40% {\n",
              "      border-color: transparent;\n",
              "      border-right-color: var(--fill-color);\n",
              "      border-top-color: var(--fill-color);\n",
              "    }\n",
              "    60% {\n",
              "      border-color: transparent;\n",
              "      border-right-color: var(--fill-color);\n",
              "    }\n",
              "    80% {\n",
              "      border-color: transparent;\n",
              "      border-right-color: var(--fill-color);\n",
              "      border-bottom-color: var(--fill-color);\n",
              "    }\n",
              "    90% {\n",
              "      border-color: transparent;\n",
              "      border-bottom-color: var(--fill-color);\n",
              "    }\n",
              "  }\n",
              "</style>\n",
              "\n",
              "  <script>\n",
              "    async function quickchart(key) {\n",
              "      const quickchartButtonEl =\n",
              "        document.querySelector('#' + key + ' button');\n",
              "      quickchartButtonEl.disabled = true;  // To prevent multiple clicks.\n",
              "      quickchartButtonEl.classList.add('colab-df-spinner');\n",
              "      try {\n",
              "        const charts = await google.colab.kernel.invokeFunction(\n",
              "            'suggestCharts', [key], {});\n",
              "      } catch (error) {\n",
              "        console.error('Error during call to suggestCharts:', error);\n",
              "      }\n",
              "      quickchartButtonEl.classList.remove('colab-df-spinner');\n",
              "      quickchartButtonEl.classList.add('colab-df-quickchart-complete');\n",
              "    }\n",
              "    (() => {\n",
              "      let quickchartButtonEl =\n",
              "        document.querySelector('#df-e9c34581-7613-49a4-894d-434314523a5c button');\n",
              "      quickchartButtonEl.style.display =\n",
              "        google.colab.kernel.accessAllowed ? 'block' : 'none';\n",
              "    })();\n",
              "  </script>\n",
              "</div>\n",
              "\n",
              "  <div id=\"id_11a7461b-d5b2-4ef0-8ae5-285301944fec\">\n",
              "    <style>\n",
              "      .colab-df-generate {\n",
              "        background-color: #E8F0FE;\n",
              "        border: none;\n",
              "        border-radius: 50%;\n",
              "        cursor: pointer;\n",
              "        display: none;\n",
              "        fill: #1967D2;\n",
              "        height: 32px;\n",
              "        padding: 0 0 0 0;\n",
              "        width: 32px;\n",
              "      }\n",
              "\n",
              "      .colab-df-generate:hover {\n",
              "        background-color: #E2EBFA;\n",
              "        box-shadow: 0px 1px 2px rgba(60, 64, 67, 0.3), 0px 1px 3px 1px rgba(60, 64, 67, 0.15);\n",
              "        fill: #174EA6;\n",
              "      }\n",
              "\n",
              "      [theme=dark] .colab-df-generate {\n",
              "        background-color: #3B4455;\n",
              "        fill: #D2E3FC;\n",
              "      }\n",
              "\n",
              "      [theme=dark] .colab-df-generate:hover {\n",
              "        background-color: #434B5C;\n",
              "        box-shadow: 0px 1px 3px 1px rgba(0, 0, 0, 0.15);\n",
              "        filter: drop-shadow(0px 1px 2px rgba(0, 0, 0, 0.3));\n",
              "        fill: #FFFFFF;\n",
              "      }\n",
              "    </style>\n",
              "    <button class=\"colab-df-generate\" onclick=\"generateWithVariable('dist_freq_quantitativas_personalizadas')\"\n",
              "            title=\"Generate code using this dataframe.\"\n",
              "            style=\"display:none;\">\n",
              "\n",
              "  <svg xmlns=\"http://www.w3.org/2000/svg\" height=\"24px\"viewBox=\"0 0 24 24\"\n",
              "       width=\"24px\">\n",
              "    <path d=\"M7,19H8.4L18.45,9,17,7.55,7,17.6ZM5,21V16.75L18.45,3.32a2,2,0,0,1,2.83,0l1.4,1.43a1.91,1.91,0,0,1,.58,1.4,1.91,1.91,0,0,1-.58,1.4L9.25,21ZM18.45,9,17,7.55Zm-12,3A5.31,5.31,0,0,0,4.9,8.1,5.31,5.31,0,0,0,1,6.5,5.31,5.31,0,0,0,4.9,4.9,5.31,5.31,0,0,0,6.5,1,5.31,5.31,0,0,0,8.1,4.9,5.31,5.31,0,0,0,12,6.5,5.46,5.46,0,0,0,6.5,12Z\"/>\n",
              "  </svg>\n",
              "    </button>\n",
              "    <script>\n",
              "      (() => {\n",
              "      const buttonEl =\n",
              "        document.querySelector('#id_11a7461b-d5b2-4ef0-8ae5-285301944fec button.colab-df-generate');\n",
              "      buttonEl.style.display =\n",
              "        google.colab.kernel.accessAllowed ? 'block' : 'none';\n",
              "\n",
              "      buttonEl.onclick = () => {\n",
              "        google.colab.notebook.generateWithVariable('dist_freq_quantitativas_personalizadas');\n",
              "      }\n",
              "      })();\n",
              "    </script>\n",
              "  </div>\n",
              "\n",
              "    </div>\n",
              "  </div>\n"
            ],
            "text/plain": [
              "                      Frequência  Porcentagem (%)\n",
              "Sem Renda                 204475             5.88\n",
              "Até R$ 1212,00           1022869            29.43\n",
              "Até R$ 1818,00            584278            16.81\n",
              "Até R$ 2424,00            414266            11.92\n",
              "Até R$ 3030,00            276704             7.96\n",
              "Até R$ 3636,00            158091             4.55\n",
              "Até R$ 4848,00            194319             5.59\n",
              "Até R$ 6060,00            188751             5.43\n",
              "Até R$ 7272,00             78916             2.27\n",
              "Até R$ 8484,00             54984             1.58\n",
              "Até R$ 9696,00             38997             1.12\n",
              "Até R$ 10908,00            51295             1.48\n",
              "Até R$ 12120,00            48530             1.40\n",
              "Até R$ 14544,00            34824             1.00\n",
              "Até R$ 18180,00            39034             1.12\n",
              "Até R$ 24240,00            36032             1.04\n",
              "Superior R$ 24240,00       49740             1.43"
            ]
          },
          "execution_count": 20,
          "metadata": {},
          "output_type": "execute_result"
        }
      ],
      "source": [
        "dist_freq_quantitativas_personalizadas.index = novos_indices\n",
        "dist_freq_quantitativas_personalizadas"
      ]
    },
    {
      "cell_type": "code",
      "execution_count": 30,
      "metadata": {
        "colab": {
          "base_uri": "https://localhost:8080/",
          "height": 707
        },
        "id": "REsgeEw-j-nv",
        "outputId": "a682f408-99d1-423d-b77f-67acd3c91569"
      },
      "outputs": [
        {
          "data": {
            "text/plain": [
              "Text(0.5, 1.0, 'Percentual da Renda Mensal dos inscritos no ENEM - 2022')"
            ]
          },
          "execution_count": 30,
          "metadata": {},
          "output_type": "execute_result"
        },
        {
          "data": {
            "image/png": "[encoded data removed]",
            "text/plain": [
              "<Figure size 1200x600 with 1 Axes>"
            ]
          },
          "metadata": {},
          "output_type": "display_data"
        }
      ],
      "source": [
        "ax = dist_freq_quantitativas_personalizadas['Porcentagem (%)'].plot.bar(\n",
        "    width=0.9,\n",
        "    color = 'blue',\n",
        "    alpha = 0.2,\n",
        "    figsize=(12,6))\n",
        "ax.set_ylim(0, 30)\n",
        "ax.set_title('Percentual da Renda Mensal dos inscritos no ENEM - 2022', fontsize=20)\n"
      ]
    },
    {
      "cell_type": "markdown",
      "metadata": {
        "id": "wo-gY-2h03oG"
      },
      "source": [
        "### Para aprofundar a análisa da variável RENDA MENSAL iremos considerar as seguintes classes em salários mínimos (SM)\n",
        "\n",
        "Classes de renda:\n",
        "\n",
        "<b>A</b> ► Acima de 25 SM\n",
        "\n",
        "<b>B</b> ► De 15 a 25 SM\n",
        "\n",
        "<b>C</b> ► De 5 a 15 SM\n",
        "\n",
        "<b>D</b> ► De 2 a 5 SM\n",
        "\n",
        "<b>E</b> ► Até 2 SM\n",
        "\n",
        "Para construir as classes de renda considere que o salário mínimo na época da pesquisa era de <b>R$ 1.212</b>.<br>\n",
        "<font color='blue'>Fonte: LEI Nº 14.358, DE 1º DE JUNHO DE 2022 </font>"
      ]
    },
    {
      "cell_type": "code",
      "execution_count": null,
      "metadata": {
        "id": "Cnx_lx97ows3"
      },
      "outputs": [],
      "source": []
    }
  ],
  "metadata": {
    "colab": {
      "provenance": []
    },
    "kernelspec": {
      "display_name": "Python 3",
      "language": "python",
      "name": "python3"
    },
    "language_info": {
      "codemirror_mode": {
        "name": "ipython",
        "version": 3
      },
      "file_extension": ".py",
      "mimetype": "text/x-python",
      "name": "python",
      "nbconvert_exporter": "python",
      "pygments_lexer": "ipython3",
      "version": "3.11.7"
    }
  },
  "nbformat": 4,
  "nbformat_minor": 0
}
